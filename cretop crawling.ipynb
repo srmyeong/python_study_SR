{
 "cells": [
  {
   "cell_type": "code",
   "execution_count": 2,
   "metadata": {},
   "outputs": [
    {
     "name": "stdout",
     "output_type": "stream",
     "text": [
      "Requirement already satisfied: chromedriver-autoinstaller in c:\\programdata\\anaconda3\\lib\\site-packages (0.3.1)Note: you may need to restart the kernel to use updated packages.\n",
      "\n"
     ]
    }
   ],
   "source": [
    "pip install chromedriver-autoinstaller"
   ]
  },
  {
   "cell_type": "code",
   "execution_count": 3,
   "metadata": {},
   "outputs": [
    {
     "name": "stdout",
     "output_type": "stream",
     "text": [
      "install the chrome driver(ver: 99)\n"
     ]
    }
   ],
   "source": [
    "from selenium import webdriver\n",
    "import chromedriver_autoinstaller\n",
    "import os\n",
    "\n",
    "# Check if chrome driver is installed or not\n",
    "chrome_ver = chromedriver_autoinstaller.get_chrome_version().split('.')[0]\n",
    "driver_path = f'./{chrome_ver}/chromedriver.exe'\n",
    "if os.path.exists(driver_path):\n",
    "    print(f\"chrom driver is insatlled: {driver_path}\")\n",
    "else:\n",
    "    print(f\"install the chrome driver(ver: {chrome_ver})\")\n",
    "    chromedriver_autoinstaller.install(True)\n",
    "\n",
    "# Get driver and open url\n",
    "driver = webdriver.Chrome(driver_path)\n",
    "driver.get(\"https://google.com\")"
   ]
  },
  {
   "cell_type": "code",
   "execution_count": 4,
   "metadata": {},
   "outputs": [],
   "source": [
    "chrome_ver = chromedriver_autoinstaller.get_chrome_version().split('.')[0]"
   ]
  },
  {
   "cell_type": "code",
   "execution_count": 5,
   "metadata": {},
   "outputs": [
    {
     "name": "stdout",
     "output_type": "stream",
     "text": [
      "chrom driver is insatlled: ./99/chromedriver.exe\n"
     ]
    }
   ],
   "source": [
    "driver_path = f'./{chrome_ver}/chromedriver.exe'\n",
    "if os.path.exists(driver_path):\n",
    "    print(f\"chrom driver is insatlled: {driver_path}\")"
   ]
  },
  {
   "cell_type": "code",
   "execution_count": 6,
   "metadata": {},
   "outputs": [
    {
     "data": {
      "text/plain": [
       "'C:\\\\Users\\\\Administrator\\\\99\\\\chromedriver.exe'"
      ]
     },
     "execution_count": 6,
     "metadata": {},
     "output_type": "execute_result"
    }
   ],
   "source": [
    "chromedriver_autoinstaller.install(True)"
   ]
  },
  {
   "cell_type": "code",
   "execution_count": 8,
   "metadata": {},
   "outputs": [],
   "source": [
    "driver = webdriver.Chrome(driver_path)\n",
    "driver.get(\"http://www.cretop.com/\")"
   ]
  },
  {
   "cell_type": "code",
   "execution_count": 12,
   "metadata": {},
   "outputs": [
    {
     "name": "stdout",
     "output_type": "stream",
     "text": [
      "Collecting python-dotenvNote: you may need to restart the kernel to use updated packages.\n",
      "  Downloading python_dotenv-0.19.2-py2.py3-none-any.whl (17 kB)\n",
      "Installing collected packages: python-dotenv\n",
      "Successfully installed python-dotenv-0.19.2\n",
      "\n"
     ]
    }
   ],
   "source": [
    "pip install python-dotenv"
   ]
  },
  {
   "cell_type": "code",
   "execution_count": 15,
   "metadata": {},
   "outputs": [],
   "source": [
    "from sys import exit"
   ]
  },
  {
   "cell_type": "code",
   "execution_count": 18,
   "metadata": {},
   "outputs": [
    {
     "ename": "NameError",
     "evalue": "name 'password' is not defined",
     "output_type": "error",
     "traceback": [
      "\u001b[1;31m---------------------------------------------------------------------------\u001b[0m",
      "\u001b[1;31mNameError\u001b[0m                                 Traceback (most recent call last)",
      "\u001b[1;32m<ipython-input-18-12dccdabd801>\u001b[0m in \u001b[0;36m<module>\u001b[1;34m\u001b[0m\n\u001b[0;32m      1\u001b[0m \u001b[0mID\u001b[0m\u001b[1;33m=\u001b[0m\u001b[0mid\u001b[0m\u001b[1;33m\u001b[0m\u001b[1;33m\u001b[0m\u001b[0m\n\u001b[1;32m----> 2\u001b[1;33m \u001b[0mPASSWORD\u001b[0m\u001b[1;33m=\u001b[0m\u001b[0mpassword\u001b[0m\u001b[1;33m\u001b[0m\u001b[1;33m\u001b[0m\u001b[0m\n\u001b[0m",
      "\u001b[1;31mNameError\u001b[0m: name 'password' is not defined"
     ]
    }
   ],
   "source": [
    "ID=id\n",
    "PASSWORD=password"
   ]
  },
  {
   "cell_type": "code",
   "execution_count": 22,
   "metadata": {},
   "outputs": [],
   "source": [
    "#.env\n",
    "id = 'kaist01'\n",
    "password = 'gcc0217#'"
   ]
  },
  {
   "cell_type": "code",
   "execution_count": 20,
   "metadata": {},
   "outputs": [
    {
     "data": {
      "text/plain": [
       "True"
      ]
     },
     "execution_count": 20,
     "metadata": {},
     "output_type": "execute_result"
    }
   ],
   "source": [
    "#test.py\n",
    "from dotenv import load_dotenv\n",
    "import os\n",
    "load_dotenv(dotenv_path='./test.env',verbose=True)"
   ]
  },
  {
   "cell_type": "code",
   "execution_count": 2,
   "metadata": {},
   "outputs": [],
   "source": [
    "import os"
   ]
  },
  {
   "cell_type": "code",
   "execution_count": 10,
   "metadata": {},
   "outputs": [
    {
     "name": "stdout",
     "output_type": "stream",
     "text": [
      "ID:  kaist01\n",
      "PW:  gcc0217#\n"
     ]
    },
    {
     "ename": "ElementClickInterceptedException",
     "evalue": "Message: element click intercepted: Element <button type=\"button\" id=\"uniSrch\" class=\"btn_search\">...</button> is not clickable at point (630, 64). Other element would receive the click: <div class=\"layer_content\">...</div>\n  (Session info: chrome=99.0.4844.51)\n",
     "output_type": "error",
     "traceback": [
      "\u001b[1;31m---------------------------------------------------------------------------\u001b[0m",
      "\u001b[1;31mElementClickInterceptedException\u001b[0m          Traceback (most recent call last)",
      "\u001b[1;32m<ipython-input-10-ad4fa99bb60b>\u001b[0m in \u001b[0;36m<module>\u001b[1;34m\u001b[0m\n\u001b[0;32m     45\u001b[0m     \u001b[0mdriver\u001b[0m\u001b[1;33m.\u001b[0m\u001b[0mfind_element_by_xpath\u001b[0m\u001b[1;33m(\u001b[0m\u001b[1;34m\"//*[@id=\\\"_srchNm\\\"]\"\u001b[0m\u001b[1;33m)\u001b[0m\u001b[1;33m.\u001b[0m\u001b[0mclear\u001b[0m\u001b[1;33m(\u001b[0m\u001b[1;33m)\u001b[0m\u001b[1;33m\u001b[0m\u001b[1;33m\u001b[0m\u001b[0m\n\u001b[0;32m     46\u001b[0m     \u001b[0mdriver\u001b[0m\u001b[1;33m.\u001b[0m\u001b[0mfind_element_by_xpath\u001b[0m\u001b[1;33m(\u001b[0m\u001b[1;34m\"//*[@id=\\\"_srchNm\\\"]\"\u001b[0m\u001b[1;33m)\u001b[0m\u001b[1;33m.\u001b[0m\u001b[0msend_keys\u001b[0m\u001b[1;33m(\u001b[0m\u001b[0mcompany_registration_number\u001b[0m\u001b[1;33m)\u001b[0m\u001b[1;33m\u001b[0m\u001b[1;33m\u001b[0m\u001b[0m\n\u001b[1;32m---> 47\u001b[1;33m     \u001b[0mdriver\u001b[0m\u001b[1;33m.\u001b[0m\u001b[0mfind_element_by_xpath\u001b[0m\u001b[1;33m(\u001b[0m\u001b[1;34m\"//*[@id=\\\"uniSrch\\\"]\"\u001b[0m\u001b[1;33m)\u001b[0m\u001b[1;33m.\u001b[0m\u001b[0mclick\u001b[0m\u001b[1;33m(\u001b[0m\u001b[1;33m)\u001b[0m\u001b[1;33m\u001b[0m\u001b[1;33m\u001b[0m\u001b[0m\n\u001b[0m\u001b[0;32m     48\u001b[0m     \u001b[0mdriver\u001b[0m\u001b[1;33m.\u001b[0m\u001b[0mimplicitly_wait\u001b[0m\u001b[1;33m(\u001b[0m\u001b[1;36m2\u001b[0m\u001b[1;33m)\u001b[0m\u001b[1;33m\u001b[0m\u001b[1;33m\u001b[0m\u001b[0m\n\u001b[0;32m     49\u001b[0m     \u001b[1;31m# 검색 결과 창에서 기업 선택\u001b[0m\u001b[1;33m\u001b[0m\u001b[1;33m\u001b[0m\u001b[1;33m\u001b[0m\u001b[0m\n",
      "\u001b[1;32mC:\\ProgramData\\Anaconda3\\lib\\site-packages\\selenium\\webdriver\\remote\\webelement.py\u001b[0m in \u001b[0;36mclick\u001b[1;34m(self)\u001b[0m\n\u001b[0;32m     78\u001b[0m     \u001b[1;32mdef\u001b[0m \u001b[0mclick\u001b[0m\u001b[1;33m(\u001b[0m\u001b[0mself\u001b[0m\u001b[1;33m)\u001b[0m\u001b[1;33m:\u001b[0m\u001b[1;33m\u001b[0m\u001b[1;33m\u001b[0m\u001b[0m\n\u001b[0;32m     79\u001b[0m         \u001b[1;34m\"\"\"Clicks the element.\"\"\"\u001b[0m\u001b[1;33m\u001b[0m\u001b[1;33m\u001b[0m\u001b[0m\n\u001b[1;32m---> 80\u001b[1;33m         \u001b[0mself\u001b[0m\u001b[1;33m.\u001b[0m\u001b[0m_execute\u001b[0m\u001b[1;33m(\u001b[0m\u001b[0mCommand\u001b[0m\u001b[1;33m.\u001b[0m\u001b[0mCLICK_ELEMENT\u001b[0m\u001b[1;33m)\u001b[0m\u001b[1;33m\u001b[0m\u001b[1;33m\u001b[0m\u001b[0m\n\u001b[0m\u001b[0;32m     81\u001b[0m \u001b[1;33m\u001b[0m\u001b[0m\n\u001b[0;32m     82\u001b[0m     \u001b[1;32mdef\u001b[0m \u001b[0msubmit\u001b[0m\u001b[1;33m(\u001b[0m\u001b[0mself\u001b[0m\u001b[1;33m)\u001b[0m\u001b[1;33m:\u001b[0m\u001b[1;33m\u001b[0m\u001b[1;33m\u001b[0m\u001b[0m\n",
      "\u001b[1;32mC:\\ProgramData\\Anaconda3\\lib\\site-packages\\selenium\\webdriver\\remote\\webelement.py\u001b[0m in \u001b[0;36m_execute\u001b[1;34m(self, command, params)\u001b[0m\n\u001b[0;32m    631\u001b[0m             \u001b[0mparams\u001b[0m \u001b[1;33m=\u001b[0m \u001b[1;33m{\u001b[0m\u001b[1;33m}\u001b[0m\u001b[1;33m\u001b[0m\u001b[1;33m\u001b[0m\u001b[0m\n\u001b[0;32m    632\u001b[0m         \u001b[0mparams\u001b[0m\u001b[1;33m[\u001b[0m\u001b[1;34m'id'\u001b[0m\u001b[1;33m]\u001b[0m \u001b[1;33m=\u001b[0m \u001b[0mself\u001b[0m\u001b[1;33m.\u001b[0m\u001b[0m_id\u001b[0m\u001b[1;33m\u001b[0m\u001b[1;33m\u001b[0m\u001b[0m\n\u001b[1;32m--> 633\u001b[1;33m         \u001b[1;32mreturn\u001b[0m \u001b[0mself\u001b[0m\u001b[1;33m.\u001b[0m\u001b[0m_parent\u001b[0m\u001b[1;33m.\u001b[0m\u001b[0mexecute\u001b[0m\u001b[1;33m(\u001b[0m\u001b[0mcommand\u001b[0m\u001b[1;33m,\u001b[0m \u001b[0mparams\u001b[0m\u001b[1;33m)\u001b[0m\u001b[1;33m\u001b[0m\u001b[1;33m\u001b[0m\u001b[0m\n\u001b[0m\u001b[0;32m    634\u001b[0m \u001b[1;33m\u001b[0m\u001b[0m\n\u001b[0;32m    635\u001b[0m     \u001b[1;32mdef\u001b[0m \u001b[0mfind_element\u001b[0m\u001b[1;33m(\u001b[0m\u001b[0mself\u001b[0m\u001b[1;33m,\u001b[0m \u001b[0mby\u001b[0m\u001b[1;33m=\u001b[0m\u001b[0mBy\u001b[0m\u001b[1;33m.\u001b[0m\u001b[0mID\u001b[0m\u001b[1;33m,\u001b[0m \u001b[0mvalue\u001b[0m\u001b[1;33m=\u001b[0m\u001b[1;32mNone\u001b[0m\u001b[1;33m)\u001b[0m\u001b[1;33m:\u001b[0m\u001b[1;33m\u001b[0m\u001b[1;33m\u001b[0m\u001b[0m\n",
      "\u001b[1;32mC:\\ProgramData\\Anaconda3\\lib\\site-packages\\selenium\\webdriver\\remote\\webdriver.py\u001b[0m in \u001b[0;36mexecute\u001b[1;34m(self, driver_command, params)\u001b[0m\n\u001b[0;32m    319\u001b[0m         \u001b[0mresponse\u001b[0m \u001b[1;33m=\u001b[0m \u001b[0mself\u001b[0m\u001b[1;33m.\u001b[0m\u001b[0mcommand_executor\u001b[0m\u001b[1;33m.\u001b[0m\u001b[0mexecute\u001b[0m\u001b[1;33m(\u001b[0m\u001b[0mdriver_command\u001b[0m\u001b[1;33m,\u001b[0m \u001b[0mparams\u001b[0m\u001b[1;33m)\u001b[0m\u001b[1;33m\u001b[0m\u001b[1;33m\u001b[0m\u001b[0m\n\u001b[0;32m    320\u001b[0m         \u001b[1;32mif\u001b[0m \u001b[0mresponse\u001b[0m\u001b[1;33m:\u001b[0m\u001b[1;33m\u001b[0m\u001b[1;33m\u001b[0m\u001b[0m\n\u001b[1;32m--> 321\u001b[1;33m             \u001b[0mself\u001b[0m\u001b[1;33m.\u001b[0m\u001b[0merror_handler\u001b[0m\u001b[1;33m.\u001b[0m\u001b[0mcheck_response\u001b[0m\u001b[1;33m(\u001b[0m\u001b[0mresponse\u001b[0m\u001b[1;33m)\u001b[0m\u001b[1;33m\u001b[0m\u001b[1;33m\u001b[0m\u001b[0m\n\u001b[0m\u001b[0;32m    322\u001b[0m             response['value'] = self._unwrap_value(\n\u001b[0;32m    323\u001b[0m                 response.get('value', None))\n",
      "\u001b[1;32mC:\\ProgramData\\Anaconda3\\lib\\site-packages\\selenium\\webdriver\\remote\\errorhandler.py\u001b[0m in \u001b[0;36mcheck_response\u001b[1;34m(self, response)\u001b[0m\n\u001b[0;32m    240\u001b[0m                 \u001b[0malert_text\u001b[0m \u001b[1;33m=\u001b[0m \u001b[0mvalue\u001b[0m\u001b[1;33m[\u001b[0m\u001b[1;34m'alert'\u001b[0m\u001b[1;33m]\u001b[0m\u001b[1;33m.\u001b[0m\u001b[0mget\u001b[0m\u001b[1;33m(\u001b[0m\u001b[1;34m'text'\u001b[0m\u001b[1;33m)\u001b[0m\u001b[1;33m\u001b[0m\u001b[1;33m\u001b[0m\u001b[0m\n\u001b[0;32m    241\u001b[0m             \u001b[1;32mraise\u001b[0m \u001b[0mexception_class\u001b[0m\u001b[1;33m(\u001b[0m\u001b[0mmessage\u001b[0m\u001b[1;33m,\u001b[0m \u001b[0mscreen\u001b[0m\u001b[1;33m,\u001b[0m \u001b[0mstacktrace\u001b[0m\u001b[1;33m,\u001b[0m \u001b[0malert_text\u001b[0m\u001b[1;33m)\u001b[0m\u001b[1;33m\u001b[0m\u001b[1;33m\u001b[0m\u001b[0m\n\u001b[1;32m--> 242\u001b[1;33m         \u001b[1;32mraise\u001b[0m \u001b[0mexception_class\u001b[0m\u001b[1;33m(\u001b[0m\u001b[0mmessage\u001b[0m\u001b[1;33m,\u001b[0m \u001b[0mscreen\u001b[0m\u001b[1;33m,\u001b[0m \u001b[0mstacktrace\u001b[0m\u001b[1;33m)\u001b[0m\u001b[1;33m\u001b[0m\u001b[1;33m\u001b[0m\u001b[0m\n\u001b[0m\u001b[0;32m    243\u001b[0m \u001b[1;33m\u001b[0m\u001b[0m\n\u001b[0;32m    244\u001b[0m     \u001b[1;32mdef\u001b[0m \u001b[0m_value_or_default\u001b[0m\u001b[1;33m(\u001b[0m\u001b[0mself\u001b[0m\u001b[1;33m,\u001b[0m \u001b[0mobj\u001b[0m\u001b[1;33m,\u001b[0m \u001b[0mkey\u001b[0m\u001b[1;33m,\u001b[0m \u001b[0mdefault\u001b[0m\u001b[1;33m)\u001b[0m\u001b[1;33m:\u001b[0m\u001b[1;33m\u001b[0m\u001b[1;33m\u001b[0m\u001b[0m\n",
      "\u001b[1;31mElementClickInterceptedException\u001b[0m: Message: element click intercepted: Element <button type=\"button\" id=\"uniSrch\" class=\"btn_search\">...</button> is not clickable at point (630, 64). Other element would receive the click: <div class=\"layer_content\">...</div>\n  (Session info: chrome=99.0.4844.51)\n"
     ]
    }
   ],
   "source": [
    "import requests\n",
    "from bs4 import BeautifulSoup\n",
    "from selenium import webdriver\n",
    "import time\n",
    "from openpyxl import load_workbook\n",
    "from selenium.common.exceptions import NoSuchElementException\n",
    "\n",
    "# 엑셀 불러오기\n",
    "# data_only=True로 해줘야 수식이 아닌 값으로 받아온다.\n",
    "load_wb = load_workbook('crawling.xlsx', data_only=True)\n",
    "# 시트 이름으로 불러오기\n",
    "load_ws = load_wb['crawling']\n",
    "# 지정한 셀의 값 출력\n",
    "table = load_ws['C461':'C963']\n",
    "\n",
    "# for row in get_cells:\n",
    "#     for cell in row:\n",
    "#         print(row)\n",
    "driver = webdriver.Chrome(\"chromedriver.exe\")\n",
    "# 접속할 url\n",
    "url = \"http://www.cretop.com/\"\n",
    "# 접속 시도\n",
    "driver.get(url)\n",
    "# 창 최대화\n",
    "# driver.maximize_window()\n",
    "\n",
    "# 1. 로그인\n",
    "login = {\n",
    "    \"id\": \"kaist01\",\n",
    "    \"pw\": \"gcc0217#\"\n",
    "}\n",
    "print(\"ID: \", login.get(\"id\"))\n",
    "print(\"PW: \", login.get(\"pw\"))\n",
    "# 아이디와 비밀번호를 입력합니다.\n",
    "# driver.find_element_by_name('id').send_keys('아이디') # \"아이디라는 값을 보내준다\"\n",
    "driver.find_element_by_id(\"in_id\").send_keys(login.get(\"id\"))\n",
    "driver.find_element_by_id(\"in_pw\").send_keys(login.get(\"pw\"))\n",
    "driver.find_element_by_id(\"loginBtn1\").click()\n",
    "\n",
    "\n",
    "for row in table:\n",
    "    company_registration_number = row[0].value\n",
    "    # 2. 사업자등록번호 검색\n",
    "    # 기업 검색란에 사업자등록번호 입력 후 엔터\n",
    "    driver.find_element_by_xpath(\"//*[@id=\\\"_srchNm\\\"]\").clear()\n",
    "    driver.find_element_by_xpath(\"//*[@id=\\\"_srchNm\\\"]\").send_keys(company_registration_number)\n",
    "    driver.find_element_by_xpath(\"//*[@id=\\\"uniSrch\\\"]\").click()\n",
    "    driver.implicitly_wait(2)\n",
    "    # 검색 결과 창에서 기업 선택\n",
    "    try:\n",
    "        driver.find_element_by_xpath(\"//*[@id=\\\"srchListDiv\\\"]/div/div/div[1]/table/tbody/tr/td[1]/a\").click()\n",
    "    except NoSuchElementException:\n",
    "        continue\n",
    "    # 3. 엑셀다운로드\n",
    "    driver.find_element_by_xpath(\"//*[@id=\\\"ENCOM01E0\\\"]\").click()\n"
   ]
  },
  {
   "cell_type": "code",
   "execution_count": null,
   "metadata": {},
   "outputs": [],
   "source": [
    " # 개별재무제표 클릭\n",
    "    driver.find_element_by_xpath(\"//*[@id=\\\"side\\\"]/div[1]/ul/li[3]/ul/li[3]/ul/li[1]/a\").click()\n",
    "    # 2017, 2018, 2019 자산 구하기\n",
    "    # 2017 항목이 있을 경우만\n",
    "    if driver.find_element_by_xpath(\"//*[@id=\\\"ENFNS01S0_TABLE\\\"]/table/thead/tr[1]/th[2]\").is_enabled():\n",
    "        # 자산 내역 날짜가 2017-12-31인 경우 엑셀에 해당 자산 값 기입\n",
    "        if driver.find_element_by_xpath(\"//*[@id=\\\"ENFNS01S0_TABLE\\\"]/table/thead/tr[1]/th[2]\").text == \"2019-12-31\":\n",
    "            row[3].value = driver.find_element_by_xpath(\"//*[@id=\\\"ENFNS01S0_TABLE\\\"]/table/tbody/tr[1]/td[1]\").text\n",
    "        # 자산 내역 날짜가 2018-12-31인 경우 엑셀에 해당 자산 값 기입\n",
    "        if driver.find_element_by_xpath(\"//*[@id=\\\"ENFNS01S0_TABLE\\\"]/table/thead/tr[1]/th[3]\").text == \"2020-12-31\":\n",
    "            row[4].value = driver.find_element_by_xpath(\"//*[@id=\\\"ENFNS01S0_TABLE\\\"]/table/tbody/tr[1]/td[2]\").text\n",
    "        # 자산 내역 날짜가 2019-12-31인 경우 엑셀에 해당 자산 값 기입\n",
    "        if driver.find_element_by_xpath(\"//*[@id=\\\"ENFNS01S0_TABLE\\\"]/table/thead/tr[1]/th[4]\").text == \"2021-12-31\":\n",
    "            row[5].value = driver.find_element_by_xpath(\"//*[@id=\\\"ENFNS01S0_TABLE\\\"]/table/tbody/tr[1]/td[3]\").tex"
   ]
  },
  {
   "cell_type": "code",
   "execution_count": null,
   "metadata": {},
   "outputs": [],
   "source": [
    "from openpyxl import load_workbook\n",
    "\n",
    "# data_only=True로 해줘야 수식이 아닌 값으로 받아온다.\n",
    "load_wb = load_workbook(\"C:/Users/dawin07/Documents/Cretop_Data_Crawler/data.xlsx\", data_only=True)\n",
    "# 시트 이름으로 불러오기\n",
    "load_ws = load_wb['최종본']\n",
    "\n",
    "# 지정한 셀의 값 출력\n",
    "cnt = 0\n",
    "table = load_ws[\"E4\":\"AD4\"]\n",
    "for row in get_cells:\n",
    "    for cell in row:\n",
    "        if cnt == 0:\n",
    "            print(\"사업자등록번호\")\n",
    "        if cnt == 1:\n",
    "            print(\"총자산\")\n",
    "        print(cell.value, end=\" \")\n",
    "        cnt += 1\n",
    "    print()\n",
    "\n",
    "# # 모든 행 단위로 출력\n",
    "#\n",
    "# for row in load_ws.rows:\n",
    "#     print(row)\n",
    "#\n",
    "# # 모든 열 단위로 출력\n",
    "#\n",
    "# for column in load_ws.columns:\n",
    "#     print(column)\n",
    "#\n",
    "# # 모든 행과 열 출력\n",
    "#\n",
    "# all_values = []\n",
    "# for row in load_ws.rows:\n",
    "#     row_value = []\n",
    "#     for cell in row:\n",
    "#         row_value.append(cell.value)\n",
    "#     all_values.append(row_value)\n",
    "# print(all_values)\n",
    "#\n",
    "# load_ws.cell(3, 3, 51470)\n",
    "# load_ws.cell(4, 3, 21470)\n",
    "# load_ws.cell(5, 3, 1470)\n",
    "# load_ws.cell(6, 3, 6470)\n",
    "load_wb.save('C:/Users/dawin07/Documents/Cretop_Data_Crawler/output.xlsx')"
   ]
  }
 ],
 "metadata": {
  "kernelspec": {
   "display_name": "Python 3",
   "language": "python",
   "name": "python3"
  },
  "language_info": {
   "codemirror_mode": {
    "name": "ipython",
    "version": 3
   },
   "file_extension": ".py",
   "mimetype": "text/x-python",
   "name": "python",
   "nbconvert_exporter": "python",
   "pygments_lexer": "ipython3",
   "version": "3.8.3"
  }
 },
 "nbformat": 4,
 "nbformat_minor": 4
}

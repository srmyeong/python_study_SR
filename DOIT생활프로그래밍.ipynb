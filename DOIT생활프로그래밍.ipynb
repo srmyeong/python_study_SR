{
 "cells": [
  {
   "cell_type": "code",
   "execution_count": 2,
   "metadata": {},
   "outputs": [],
   "source": [
    "import numpy as np"
   ]
  },
  {
   "cell_type": "code",
   "execution_count": 2,
   "metadata": {},
   "outputs": [],
   "source": [
    "discount = .05\n",
    "cashflow = 100"
   ]
  },
  {
   "cell_type": "code",
   "execution_count": 1,
   "metadata": {},
   "outputs": [],
   "source": [
    "import pandas as pd"
   ]
  },
  {
   "cell_type": "code",
   "execution_count": 3,
   "metadata": {},
   "outputs": [],
   "source": [
    "def presentvalue(n):\n",
    "    return (cashflow / ((1 + discount ) ** n))"
   ]
  },
  {
   "cell_type": "code",
   "execution_count": 4,
   "metadata": {},
   "outputs": [
    {
     "name": "stdout",
     "output_type": "stream",
     "text": [
      "95.23809523809524\n"
     ]
    }
   ],
   "source": [
    "print(presentvalue(1))"
   ]
  },
  {
   "cell_type": "code",
   "execution_count": 5,
   "metadata": {},
   "outputs": [
    {
     "name": "stdout",
     "output_type": "stream",
     "text": [
      "100.0\n",
      "95.23809523809524\n",
      "90.70294784580499\n",
      "86.3837598531476\n",
      "82.27024747918819\n",
      "78.35261664684589\n",
      "74.62153966366274\n",
      "71.06813301301213\n",
      "67.6839362028687\n",
      "64.46089162177971\n",
      "61.39132535407592\n",
      "58.46792890864373\n",
      "55.68374181775592\n",
      "53.03213506452945\n",
      "50.506795299551854\n",
      "48.101709809096995\n",
      "45.811152199140004\n",
      "43.62966876108571\n",
      "41.5520654867483\n",
      "39.57339570166504\n"
     ]
    }
   ],
   "source": [
    "for i in range(20):\n",
    "    print(presentvalue(i))"
   ]
  },
  {
   "cell_type": "code",
   "execution_count": 7,
   "metadata": {},
   "outputs": [
    {
     "data": {
      "text/plain": [
       "[100,\n",
       " 100,\n",
       " 100,\n",
       " 100,\n",
       " 100,\n",
       " 100,\n",
       " 100,\n",
       " 100,\n",
       " 100,\n",
       " 100,\n",
       " 100,\n",
       " 100,\n",
       " 100,\n",
       " 100,\n",
       " 100,\n",
       " 100,\n",
       " 100,\n",
       " 100]"
      ]
     },
     "execution_count": 7,
     "metadata": {},
     "output_type": "execute_result"
    }
   ],
   "source": [
    "loss = [-750, -250]\n",
    "profit = [100] * 18\n",
    "profit"
   ]
  },
  {
   "cell_type": "code",
   "execution_count": 8,
   "metadata": {},
   "outputs": [],
   "source": [
    "cf = loss + profit"
   ]
  },
  {
   "cell_type": "code",
   "execution_count": 9,
   "metadata": {},
   "outputs": [
    {
     "data": {
      "text/plain": [
       "[-750,\n",
       " -250,\n",
       " 100,\n",
       " 100,\n",
       " 100,\n",
       " 100,\n",
       " 100,\n",
       " 100,\n",
       " 100,\n",
       " 100,\n",
       " 100,\n",
       " 100,\n",
       " 100,\n",
       " 100,\n",
       " 100,\n",
       " 100,\n",
       " 100,\n",
       " 100,\n",
       " 100,\n",
       " 100]"
      ]
     },
     "execution_count": 9,
     "metadata": {},
     "output_type": "execute_result"
    }
   ],
   "source": [
    "cf"
   ]
  },
  {
   "cell_type": "code",
   "execution_count": 10,
   "metadata": {},
   "outputs": [
    {
     "data": {
      "text/plain": [
       "20"
      ]
     },
     "execution_count": 10,
     "metadata": {},
     "output_type": "execute_result"
    }
   ],
   "source": [
    "len(cf)"
   ]
  },
  {
   "cell_type": "code",
   "execution_count": 11,
   "metadata": {},
   "outputs": [],
   "source": [
    "cashflow = np.array(cf)"
   ]
  },
  {
   "cell_type": "code",
   "execution_count": 14,
   "metadata": {},
   "outputs": [
    {
     "name": "stderr",
     "output_type": "stream",
     "text": [
      "<ipython-input-14-ca18aed21a50>:1: DeprecationWarning: numpy.npv is deprecated and will be removed from NumPy 1.20. Use numpy_financial.npv instead (https://pypi.org/project/numpy-financial/).\n",
      "  npv = np.npv(0.045, cashflow)\n"
     ]
    }
   ],
   "source": [
    "npv = np.npv(0.045, cashflow)"
   ]
  },
  {
   "cell_type": "code",
   "execution_count": 15,
   "metadata": {},
   "outputs": [
    {
     "data": {
      "text/plain": [
       "174.4011295118405"
      ]
     },
     "execution_count": 15,
     "metadata": {},
     "output_type": "execute_result"
    }
   ],
   "source": [
    "npv"
   ]
  },
  {
   "cell_type": "code",
   "execution_count": 16,
   "metadata": {},
   "outputs": [
    {
     "name": "stderr",
     "output_type": "stream",
     "text": [
      "<ipython-input-16-3e985175300a>:1: DeprecationWarning: numpy.irr is deprecated and will be removed from NumPy 1.20. Use numpy_financial.irr instead (https://pypi.org/project/numpy-financial/).\n",
      "  irr = np.irr(cashflow)\n"
     ]
    }
   ],
   "source": [
    "irr = np.irr(cashflow)"
   ]
  },
  {
   "cell_type": "code",
   "execution_count": 17,
   "metadata": {},
   "outputs": [
    {
     "data": {
      "text/plain": [
       "0.06434936937255586"
      ]
     },
     "execution_count": 17,
     "metadata": {},
     "output_type": "execute_result"
    }
   ],
   "source": [
    "irr"
   ]
  },
  {
   "cell_type": "code",
   "execution_count": 18,
   "metadata": {},
   "outputs": [],
   "source": [
    "import pandas as pd"
   ]
  },
  {
   "cell_type": "code",
   "execution_count": 19,
   "metadata": {},
   "outputs": [],
   "source": [
    "data = {'name' : ['Mark', 'Jane', ' Chris', 'Ryan'],\n",
    "       'age' : [33, 32, 44, 42],\n",
    "       'score' : [91.3, 83.4, 77.5, 87.7]}"
   ]
  },
  {
   "cell_type": "code",
   "execution_count": 20,
   "metadata": {},
   "outputs": [],
   "source": [
    "df = pd.DataFrame(data)"
   ]
  },
  {
   "cell_type": "code",
   "execution_count": 21,
   "metadata": {},
   "outputs": [
    {
     "data": {
      "text/html": [
       "<div>\n",
       "<style scoped>\n",
       "    .dataframe tbody tr th:only-of-type {\n",
       "        vertical-align: middle;\n",
       "    }\n",
       "\n",
       "    .dataframe tbody tr th {\n",
       "        vertical-align: top;\n",
       "    }\n",
       "\n",
       "    .dataframe thead th {\n",
       "        text-align: right;\n",
       "    }\n",
       "</style>\n",
       "<table border=\"1\" class=\"dataframe\">\n",
       "  <thead>\n",
       "    <tr style=\"text-align: right;\">\n",
       "      <th></th>\n",
       "      <th>name</th>\n",
       "      <th>age</th>\n",
       "      <th>score</th>\n",
       "    </tr>\n",
       "  </thead>\n",
       "  <tbody>\n",
       "    <tr>\n",
       "      <th>0</th>\n",
       "      <td>Mark</td>\n",
       "      <td>33</td>\n",
       "      <td>91.3</td>\n",
       "    </tr>\n",
       "    <tr>\n",
       "      <th>1</th>\n",
       "      <td>Jane</td>\n",
       "      <td>32</td>\n",
       "      <td>83.4</td>\n",
       "    </tr>\n",
       "    <tr>\n",
       "      <th>2</th>\n",
       "      <td>Chris</td>\n",
       "      <td>44</td>\n",
       "      <td>77.5</td>\n",
       "    </tr>\n",
       "    <tr>\n",
       "      <th>3</th>\n",
       "      <td>Ryan</td>\n",
       "      <td>42</td>\n",
       "      <td>87.7</td>\n",
       "    </tr>\n",
       "  </tbody>\n",
       "</table>\n",
       "</div>"
      ],
      "text/plain": [
       "     name  age  score\n",
       "0    Mark   33   91.3\n",
       "1    Jane   32   83.4\n",
       "2   Chris   44   77.5\n",
       "3    Ryan   42   87.7"
      ]
     },
     "execution_count": 21,
     "metadata": {},
     "output_type": "execute_result"
    }
   ],
   "source": [
    "df"
   ]
  },
  {
   "cell_type": "code",
   "execution_count": 22,
   "metadata": {},
   "outputs": [
    {
     "data": {
      "text/plain": [
       "name     MarkJane ChrisRyan\n",
       "age                     151\n",
       "score                 339.9\n",
       "dtype: object"
      ]
     },
     "execution_count": 22,
     "metadata": {},
     "output_type": "execute_result"
    }
   ],
   "source": [
    "df.sum()"
   ]
  },
  {
   "cell_type": "code",
   "execution_count": 23,
   "metadata": {},
   "outputs": [
    {
     "data": {
      "text/plain": [
       "age      37.750\n",
       "score    84.975\n",
       "dtype: float64"
      ]
     },
     "execution_count": 23,
     "metadata": {},
     "output_type": "execute_result"
    }
   ],
   "source": [
    "df.mean()"
   ]
  },
  {
   "cell_type": "code",
   "execution_count": 25,
   "metadata": {},
   "outputs": [
    {
     "data": {
      "text/plain": [
       "0    33\n",
       "1    32\n",
       "2    44\n",
       "3    42\n",
       "Name: age, dtype: int64"
      ]
     },
     "execution_count": 25,
     "metadata": {},
     "output_type": "execute_result"
    }
   ],
   "source": [
    "df.age"
   ]
  },
  {
   "cell_type": "code",
   "execution_count": 26,
   "metadata": {},
   "outputs": [
    {
     "data": {
      "text/plain": [
       "0    33\n",
       "1    32\n",
       "2    44\n",
       "3    42\n",
       "Name: age, dtype: int64"
      ]
     },
     "execution_count": 26,
     "metadata": {},
     "output_type": "execute_result"
    }
   ],
   "source": [
    "df['age']"
   ]
  },
  {
   "cell_type": "code",
   "execution_count": 29,
   "metadata": {},
   "outputs": [],
   "source": [
    "import pandas as pd\n",
    "import re, os"
   ]
  },
  {
   "cell_type": "code",
   "execution_count": 31,
   "metadata": {},
   "outputs": [],
   "source": [
    "df = pd.read_csv('apt.csv', encoding = 'cp949')"
   ]
  },
  {
   "cell_type": "code",
   "execution_count": 32,
   "metadata": {},
   "outputs": [
    {
     "data": {
      "text/plain": [
       "42758"
      ]
     },
     "execution_count": 32,
     "metadata": {},
     "output_type": "execute_result"
    }
   ],
   "source": [
    "len(df)"
   ]
  },
  {
   "cell_type": "code",
   "execution_count": 33,
   "metadata": {},
   "outputs": [
    {
     "data": {
      "text/html": [
       "<div>\n",
       "<style scoped>\n",
       "    .dataframe tbody tr th:only-of-type {\n",
       "        vertical-align: middle;\n",
       "    }\n",
       "\n",
       "    .dataframe tbody tr th {\n",
       "        vertical-align: top;\n",
       "    }\n",
       "\n",
       "    .dataframe thead th {\n",
       "        text-align: right;\n",
       "    }\n",
       "</style>\n",
       "<table border=\"1\" class=\"dataframe\">\n",
       "  <thead>\n",
       "    <tr style=\"text-align: right;\">\n",
       "      <th></th>\n",
       "      <th>지역</th>\n",
       "      <th>번지</th>\n",
       "      <th>본번</th>\n",
       "      <th>부번</th>\n",
       "      <th>아파트</th>\n",
       "      <th>면적</th>\n",
       "      <th>계약년월</th>\n",
       "      <th>계약일</th>\n",
       "      <th>가격</th>\n",
       "      <th>층</th>\n",
       "      <th>건축년도</th>\n",
       "      <th>도로명</th>\n",
       "    </tr>\n",
       "  </thead>\n",
       "  <tbody>\n",
       "    <tr>\n",
       "      <th>0</th>\n",
       "      <td>강원도 강릉시 견소동</td>\n",
       "      <td>202</td>\n",
       "      <td>202</td>\n",
       "      <td>0</td>\n",
       "      <td>송정한신</td>\n",
       "      <td>59.800</td>\n",
       "      <td>201910</td>\n",
       "      <td>4</td>\n",
       "      <td>10900</td>\n",
       "      <td>5</td>\n",
       "      <td>1997</td>\n",
       "      <td>경강로2539번길 8</td>\n",
       "    </tr>\n",
       "    <tr>\n",
       "      <th>1</th>\n",
       "      <td>강원도 강릉시 견소동</td>\n",
       "      <td>202</td>\n",
       "      <td>202</td>\n",
       "      <td>0</td>\n",
       "      <td>송정한신</td>\n",
       "      <td>116.175</td>\n",
       "      <td>201910</td>\n",
       "      <td>31</td>\n",
       "      <td>18500</td>\n",
       "      <td>10</td>\n",
       "      <td>1997</td>\n",
       "      <td>경강로2539번길 8</td>\n",
       "    </tr>\n",
       "    <tr>\n",
       "      <th>2</th>\n",
       "      <td>강원도 강릉시 견소동</td>\n",
       "      <td>289</td>\n",
       "      <td>289</td>\n",
       "      <td>0</td>\n",
       "      <td>송정해변신도브래뉴아파트</td>\n",
       "      <td>84.990</td>\n",
       "      <td>201910</td>\n",
       "      <td>5</td>\n",
       "      <td>25000</td>\n",
       "      <td>6</td>\n",
       "      <td>2005</td>\n",
       "      <td>경강로2539번길 22</td>\n",
       "    </tr>\n",
       "    <tr>\n",
       "      <th>3</th>\n",
       "      <td>강원도 강릉시 견소동</td>\n",
       "      <td>289</td>\n",
       "      <td>289</td>\n",
       "      <td>0</td>\n",
       "      <td>송정해변신도브래뉴아파트</td>\n",
       "      <td>84.990</td>\n",
       "      <td>201910</td>\n",
       "      <td>12</td>\n",
       "      <td>20600</td>\n",
       "      <td>3</td>\n",
       "      <td>2005</td>\n",
       "      <td>경강로2539번길 22</td>\n",
       "    </tr>\n",
       "    <tr>\n",
       "      <th>4</th>\n",
       "      <td>강원도 강릉시 견소동</td>\n",
       "      <td>289</td>\n",
       "      <td>289</td>\n",
       "      <td>0</td>\n",
       "      <td>송정해변신도브래뉴아파트</td>\n",
       "      <td>84.990</td>\n",
       "      <td>201910</td>\n",
       "      <td>20</td>\n",
       "      <td>20500</td>\n",
       "      <td>1</td>\n",
       "      <td>2005</td>\n",
       "      <td>경강로2539번길 22</td>\n",
       "    </tr>\n",
       "  </tbody>\n",
       "</table>\n",
       "</div>"
      ],
      "text/plain": [
       "            지역   번지   본번  부번           아파트       면적    계약년월  계약일     가격   층  \\\n",
       "0  강원도 강릉시 견소동  202  202   0          송정한신   59.800  201910    4  10900   5   \n",
       "1  강원도 강릉시 견소동  202  202   0          송정한신  116.175  201910   31  18500  10   \n",
       "2  강원도 강릉시 견소동  289  289   0  송정해변신도브래뉴아파트   84.990  201910    5  25000   6   \n",
       "3  강원도 강릉시 견소동  289  289   0  송정해변신도브래뉴아파트   84.990  201910   12  20600   3   \n",
       "4  강원도 강릉시 견소동  289  289   0  송정해변신도브래뉴아파트   84.990  201910   20  20500   1   \n",
       "\n",
       "   건축년도           도로명  \n",
       "0  1997   경강로2539번길 8  \n",
       "1  1997   경강로2539번길 8  \n",
       "2  2005  경강로2539번길 22  \n",
       "3  2005  경강로2539번길 22  \n",
       "4  2005  경강로2539번길 22  "
      ]
     },
     "execution_count": 33,
     "metadata": {},
     "output_type": "execute_result"
    }
   ],
   "source": [
    "df.head()"
   ]
  },
  {
   "cell_type": "code",
   "execution_count": 34,
   "metadata": {},
   "outputs": [
    {
     "data": {
      "text/html": [
       "<div>\n",
       "<style scoped>\n",
       "    .dataframe tbody tr th:only-of-type {\n",
       "        vertical-align: middle;\n",
       "    }\n",
       "\n",
       "    .dataframe tbody tr th {\n",
       "        vertical-align: top;\n",
       "    }\n",
       "\n",
       "    .dataframe thead th {\n",
       "        text-align: right;\n",
       "    }\n",
       "</style>\n",
       "<table border=\"1\" class=\"dataframe\">\n",
       "  <thead>\n",
       "    <tr style=\"text-align: right;\">\n",
       "      <th></th>\n",
       "      <th>지역</th>\n",
       "      <th>번지</th>\n",
       "      <th>본번</th>\n",
       "      <th>부번</th>\n",
       "      <th>아파트</th>\n",
       "      <th>면적</th>\n",
       "      <th>계약년월</th>\n",
       "      <th>계약일</th>\n",
       "      <th>가격</th>\n",
       "      <th>층</th>\n",
       "      <th>건축년도</th>\n",
       "      <th>도로명</th>\n",
       "    </tr>\n",
       "  </thead>\n",
       "  <tbody>\n",
       "    <tr>\n",
       "      <th>42753</th>\n",
       "      <td>충청북도 충주시 호암동</td>\n",
       "      <td>547-6</td>\n",
       "      <td>547</td>\n",
       "      <td>6</td>\n",
       "      <td>호반현대</td>\n",
       "      <td>59.76</td>\n",
       "      <td>201910</td>\n",
       "      <td>29</td>\n",
       "      <td>7000</td>\n",
       "      <td>3</td>\n",
       "      <td>1994</td>\n",
       "      <td>신촌2길 28</td>\n",
       "    </tr>\n",
       "    <tr>\n",
       "      <th>42754</th>\n",
       "      <td>충청북도 충주시 호암동</td>\n",
       "      <td>221-23</td>\n",
       "      <td>221</td>\n",
       "      <td>23</td>\n",
       "      <td>호암리버빌(1단지)</td>\n",
       "      <td>84.68</td>\n",
       "      <td>201910</td>\n",
       "      <td>5</td>\n",
       "      <td>12000</td>\n",
       "      <td>15</td>\n",
       "      <td>2002</td>\n",
       "      <td>원호암5길 32</td>\n",
       "    </tr>\n",
       "    <tr>\n",
       "      <th>42755</th>\n",
       "      <td>충청북도 충주시 호암동</td>\n",
       "      <td>221-23</td>\n",
       "      <td>221</td>\n",
       "      <td>23</td>\n",
       "      <td>호암리버빌(1단지)</td>\n",
       "      <td>84.68</td>\n",
       "      <td>201910</td>\n",
       "      <td>15</td>\n",
       "      <td>11000</td>\n",
       "      <td>7</td>\n",
       "      <td>2002</td>\n",
       "      <td>원호암5길 32</td>\n",
       "    </tr>\n",
       "    <tr>\n",
       "      <th>42756</th>\n",
       "      <td>충청북도 충주시 호암동</td>\n",
       "      <td>221-23</td>\n",
       "      <td>221</td>\n",
       "      <td>23</td>\n",
       "      <td>호암리버빌(1단지)</td>\n",
       "      <td>84.68</td>\n",
       "      <td>201910</td>\n",
       "      <td>17</td>\n",
       "      <td>12000</td>\n",
       "      <td>14</td>\n",
       "      <td>2002</td>\n",
       "      <td>원호암5길 32</td>\n",
       "    </tr>\n",
       "    <tr>\n",
       "      <th>42757</th>\n",
       "      <td>충청북도 충주시 호암동</td>\n",
       "      <td>221-23</td>\n",
       "      <td>221</td>\n",
       "      <td>23</td>\n",
       "      <td>호암리버빌(1단지)</td>\n",
       "      <td>84.68</td>\n",
       "      <td>201910</td>\n",
       "      <td>26</td>\n",
       "      <td>11200</td>\n",
       "      <td>11</td>\n",
       "      <td>2002</td>\n",
       "      <td>원호암5길 32</td>\n",
       "    </tr>\n",
       "  </tbody>\n",
       "</table>\n",
       "</div>"
      ],
      "text/plain": [
       "                 지역      번지   본번  부번         아파트     면적    계약년월  계약일     가격  \\\n",
       "42753  충청북도 충주시 호암동   547-6  547   6        호반현대  59.76  201910   29   7000   \n",
       "42754  충청북도 충주시 호암동  221-23  221  23  호암리버빌(1단지)  84.68  201910    5  12000   \n",
       "42755  충청북도 충주시 호암동  221-23  221  23  호암리버빌(1단지)  84.68  201910   15  11000   \n",
       "42756  충청북도 충주시 호암동  221-23  221  23  호암리버빌(1단지)  84.68  201910   17  12000   \n",
       "42757  충청북도 충주시 호암동  221-23  221  23  호암리버빌(1단지)  84.68  201910   26  11200   \n",
       "\n",
       "        층  건축년도       도로명  \n",
       "42753   3  1994   신촌2길 28  \n",
       "42754  15  2002  원호암5길 32  \n",
       "42755   7  2002  원호암5길 32  \n",
       "42756  14  2002  원호암5길 32  \n",
       "42757  11  2002  원호암5길 32  "
      ]
     },
     "execution_count": 34,
     "metadata": {},
     "output_type": "execute_result"
    }
   ],
   "source": [
    "df.tail()"
   ]
  },
  {
   "cell_type": "code",
   "execution_count": 35,
   "metadata": {},
   "outputs": [
    {
     "data": {
      "text/plain": [
       "0         강원도 강릉시 견소동\n",
       "1         강원도 강릉시 견소동\n",
       "2         강원도 강릉시 견소동\n",
       "3         강원도 강릉시 견소동\n",
       "4         강원도 강릉시 견소동\n",
       "             ...     \n",
       "42753    충청북도 충주시 호암동\n",
       "42754    충청북도 충주시 호암동\n",
       "42755    충청북도 충주시 호암동\n",
       "42756    충청북도 충주시 호암동\n",
       "42757    충청북도 충주시 호암동\n",
       "Name: 지역, Length: 42758, dtype: object"
      ]
     },
     "execution_count": 35,
     "metadata": {},
     "output_type": "execute_result"
    }
   ],
   "source": [
    "df.지역"
   ]
  },
  {
   "cell_type": "code",
   "execution_count": 36,
   "metadata": {},
   "outputs": [
    {
     "data": {
      "text/plain": [
       "0        False\n",
       "1        False\n",
       "2        False\n",
       "3        False\n",
       "4        False\n",
       "         ...  \n",
       "42753    False\n",
       "42754    False\n",
       "42755    False\n",
       "42756    False\n",
       "42757    False\n",
       "Name: 면적, Length: 42758, dtype: bool"
      ]
     },
     "execution_count": 36,
     "metadata": {},
     "output_type": "execute_result"
    }
   ],
   "source": [
    "df.면적 > 130"
   ]
  },
  {
   "cell_type": "code",
   "execution_count": 37,
   "metadata": {},
   "outputs": [
    {
     "data": {
      "text/html": [
       "<div>\n",
       "<style scoped>\n",
       "    .dataframe tbody tr th:only-of-type {\n",
       "        vertical-align: middle;\n",
       "    }\n",
       "\n",
       "    .dataframe tbody tr th {\n",
       "        vertical-align: top;\n",
       "    }\n",
       "\n",
       "    .dataframe thead th {\n",
       "        text-align: right;\n",
       "    }\n",
       "</style>\n",
       "<table border=\"1\" class=\"dataframe\">\n",
       "  <thead>\n",
       "    <tr style=\"text-align: right;\">\n",
       "      <th></th>\n",
       "      <th>지역</th>\n",
       "      <th>번지</th>\n",
       "      <th>본번</th>\n",
       "      <th>부번</th>\n",
       "      <th>아파트</th>\n",
       "      <th>면적</th>\n",
       "      <th>계약년월</th>\n",
       "      <th>계약일</th>\n",
       "      <th>가격</th>\n",
       "      <th>층</th>\n",
       "      <th>건축년도</th>\n",
       "      <th>도로명</th>\n",
       "    </tr>\n",
       "  </thead>\n",
       "  <tbody>\n",
       "    <tr>\n",
       "      <th>6</th>\n",
       "      <td>강원도 강릉시 교동</td>\n",
       "      <td>1982</td>\n",
       "      <td>1982</td>\n",
       "      <td>0</td>\n",
       "      <td>강릉교동롯데캐슬1단지</td>\n",
       "      <td>135.1727</td>\n",
       "      <td>201910</td>\n",
       "      <td>21</td>\n",
       "      <td>34300</td>\n",
       "      <td>9</td>\n",
       "      <td>2009</td>\n",
       "      <td>화부산로99번길 12</td>\n",
       "    </tr>\n",
       "    <tr>\n",
       "      <th>39</th>\n",
       "      <td>강원도 강릉시 남문동</td>\n",
       "      <td>183-2</td>\n",
       "      <td>183</td>\n",
       "      <td>2</td>\n",
       "      <td>삼익그린맨션</td>\n",
       "      <td>164.7540</td>\n",
       "      <td>201910</td>\n",
       "      <td>15</td>\n",
       "      <td>21000</td>\n",
       "      <td>12</td>\n",
       "      <td>1992</td>\n",
       "      <td>홍제로 7-17</td>\n",
       "    </tr>\n",
       "    <tr>\n",
       "      <th>334</th>\n",
       "      <td>강원도 속초시 금호동</td>\n",
       "      <td>629</td>\n",
       "      <td>629</td>\n",
       "      <td>0</td>\n",
       "      <td>보람레이크더하임</td>\n",
       "      <td>156.7600</td>\n",
       "      <td>201910</td>\n",
       "      <td>16</td>\n",
       "      <td>29500</td>\n",
       "      <td>1</td>\n",
       "      <td>2008</td>\n",
       "      <td>영랑호반길 115-13</td>\n",
       "    </tr>\n",
       "    <tr>\n",
       "      <th>433</th>\n",
       "      <td>강원도 원주시 개운동</td>\n",
       "      <td>01월 28일</td>\n",
       "      <td>28</td>\n",
       "      <td>1</td>\n",
       "      <td>원주힐스테이트</td>\n",
       "      <td>133.9912</td>\n",
       "      <td>201910</td>\n",
       "      <td>5</td>\n",
       "      <td>26000</td>\n",
       "      <td>16</td>\n",
       "      <td>2006</td>\n",
       "      <td>행구로 54</td>\n",
       "    </tr>\n",
       "    <tr>\n",
       "      <th>434</th>\n",
       "      <td>강원도 원주시 개운동</td>\n",
       "      <td>01월 28일</td>\n",
       "      <td>28</td>\n",
       "      <td>1</td>\n",
       "      <td>원주힐스테이트</td>\n",
       "      <td>137.4292</td>\n",
       "      <td>201910</td>\n",
       "      <td>31</td>\n",
       "      <td>24000</td>\n",
       "      <td>14</td>\n",
       "      <td>2006</td>\n",
       "      <td>행구로 54</td>\n",
       "    </tr>\n",
       "    <tr>\n",
       "      <th>...</th>\n",
       "      <td>...</td>\n",
       "      <td>...</td>\n",
       "      <td>...</td>\n",
       "      <td>...</td>\n",
       "      <td>...</td>\n",
       "      <td>...</td>\n",
       "      <td>...</td>\n",
       "      <td>...</td>\n",
       "      <td>...</td>\n",
       "      <td>...</td>\n",
       "      <td>...</td>\n",
       "      <td>...</td>\n",
       "    </tr>\n",
       "    <tr>\n",
       "      <th>42595</th>\n",
       "      <td>충청북도 충주시 문화동</td>\n",
       "      <td>2260</td>\n",
       "      <td>2260</td>\n",
       "      <td>0</td>\n",
       "      <td>럭키</td>\n",
       "      <td>156.7900</td>\n",
       "      <td>201910</td>\n",
       "      <td>21</td>\n",
       "      <td>15000</td>\n",
       "      <td>3</td>\n",
       "      <td>1993</td>\n",
       "      <td>중원대로 3379</td>\n",
       "    </tr>\n",
       "    <tr>\n",
       "      <th>42607</th>\n",
       "      <td>충청북도 충주시 안림동</td>\n",
       "      <td>1166</td>\n",
       "      <td>1166</td>\n",
       "      <td>0</td>\n",
       "      <td>엘리시아</td>\n",
       "      <td>136.1287</td>\n",
       "      <td>201910</td>\n",
       "      <td>19</td>\n",
       "      <td>18500</td>\n",
       "      <td>12</td>\n",
       "      <td>2007</td>\n",
       "      <td>국원초1길 48</td>\n",
       "    </tr>\n",
       "    <tr>\n",
       "      <th>42663</th>\n",
       "      <td>충청북도 충주시 연수동</td>\n",
       "      <td>1627</td>\n",
       "      <td>1627</td>\n",
       "      <td>0</td>\n",
       "      <td>연수힐스테이트</td>\n",
       "      <td>143.2109</td>\n",
       "      <td>201910</td>\n",
       "      <td>14</td>\n",
       "      <td>31500</td>\n",
       "      <td>13</td>\n",
       "      <td>2007</td>\n",
       "      <td>연수동산로 26</td>\n",
       "    </tr>\n",
       "    <tr>\n",
       "      <th>42736</th>\n",
       "      <td>충청북도 충주시 칠금동</td>\n",
       "      <td>626</td>\n",
       "      <td>626</td>\n",
       "      <td>0</td>\n",
       "      <td>삼일</td>\n",
       "      <td>143.5800</td>\n",
       "      <td>201910</td>\n",
       "      <td>20</td>\n",
       "      <td>18500</td>\n",
       "      <td>12</td>\n",
       "      <td>1996</td>\n",
       "      <td>금릉로 17</td>\n",
       "    </tr>\n",
       "    <tr>\n",
       "      <th>42737</th>\n",
       "      <td>충청북도 충주시 칠금동</td>\n",
       "      <td>626</td>\n",
       "      <td>626</td>\n",
       "      <td>0</td>\n",
       "      <td>삼일</td>\n",
       "      <td>143.5800</td>\n",
       "      <td>201910</td>\n",
       "      <td>21</td>\n",
       "      <td>16200</td>\n",
       "      <td>3</td>\n",
       "      <td>1996</td>\n",
       "      <td>금릉로 17</td>\n",
       "    </tr>\n",
       "  </tbody>\n",
       "</table>\n",
       "<p>1567 rows × 12 columns</p>\n",
       "</div>"
      ],
      "text/plain": [
       "                 지역       번지    본번  부번          아파트        면적    계약년월  계약일  \\\n",
       "6        강원도 강릉시 교동     1982  1982   0  강릉교동롯데캐슬1단지  135.1727  201910   21   \n",
       "39      강원도 강릉시 남문동    183-2   183   2       삼익그린맨션  164.7540  201910   15   \n",
       "334     강원도 속초시 금호동      629   629   0     보람레이크더하임  156.7600  201910   16   \n",
       "433     강원도 원주시 개운동  01월 28일    28   1      원주힐스테이트  133.9912  201910    5   \n",
       "434     강원도 원주시 개운동  01월 28일    28   1      원주힐스테이트  137.4292  201910   31   \n",
       "...             ...      ...   ...  ..          ...       ...     ...  ...   \n",
       "42595  충청북도 충주시 문화동     2260  2260   0           럭키  156.7900  201910   21   \n",
       "42607  충청북도 충주시 안림동     1166  1166   0         엘리시아  136.1287  201910   19   \n",
       "42663  충청북도 충주시 연수동     1627  1627   0      연수힐스테이트  143.2109  201910   14   \n",
       "42736  충청북도 충주시 칠금동      626   626   0           삼일  143.5800  201910   20   \n",
       "42737  충청북도 충주시 칠금동      626   626   0           삼일  143.5800  201910   21   \n",
       "\n",
       "          가격   층  건축년도           도로명  \n",
       "6      34300   9  2009   화부산로99번길 12  \n",
       "39     21000  12  1992      홍제로 7-17  \n",
       "334    29500   1  2008  영랑호반길 115-13  \n",
       "433    26000  16  2006        행구로 54  \n",
       "434    24000  14  2006        행구로 54  \n",
       "...      ...  ..   ...           ...  \n",
       "42595  15000   3  1993     중원대로 3379  \n",
       "42607  18500  12  2007      국원초1길 48  \n",
       "42663  31500  13  2007      연수동산로 26  \n",
       "42736  18500  12  1996        금릉로 17  \n",
       "42737  16200   3  1996        금릉로 17  \n",
       "\n",
       "[1567 rows x 12 columns]"
      ]
     },
     "execution_count": 37,
     "metadata": {},
     "output_type": "execute_result"
    }
   ],
   "source": [
    "df[df.면적 > 130]"
   ]
  },
  {
   "cell_type": "code",
   "execution_count": 38,
   "metadata": {},
   "outputs": [
    {
     "data": {
      "text/plain": [
       "6        34300\n",
       "39       21000\n",
       "334      29500\n",
       "433      26000\n",
       "434      24000\n",
       "         ...  \n",
       "42595    15000\n",
       "42607    18500\n",
       "42663    31500\n",
       "42736    18500\n",
       "42737    16200\n",
       "Name: 가격, Length: 1567, dtype: int64"
      ]
     },
     "execution_count": 38,
     "metadata": {},
     "output_type": "execute_result"
    }
   ],
   "source": [
    "df.가격[df.면적 > 130]"
   ]
  },
  {
   "cell_type": "code",
   "execution_count": 39,
   "metadata": {},
   "outputs": [
    {
     "data": {
      "text/plain": [
       "862      14900\n",
       "927      13800\n",
       "16785    14700\n",
       "36733    14700\n",
       "37726    13700\n",
       "38811    14600\n",
       "39487    12000\n",
       "40680    12500\n",
       "41173    14000\n",
       "41578    13000\n",
       "Name: 가격, dtype: int64"
      ]
     },
     "execution_count": 39,
     "metadata": {},
     "output_type": "execute_result"
    }
   ],
   "source": [
    "df.가격[(df.면적 > 130) & (df.가격 < 15000)]"
   ]
  },
  {
   "cell_type": "code",
   "execution_count": 40,
   "metadata": {},
   "outputs": [
    {
     "data": {
      "text/plain": [
       "0        10900\n",
       "6        34300\n",
       "35        4600\n",
       "36       13200\n",
       "37       14700\n",
       "         ...  \n",
       "42753     7000\n",
       "42754    12000\n",
       "42755    11000\n",
       "42756    12000\n",
       "42757    11200\n",
       "Name: 가격, Length: 11499, dtype: int64"
      ]
     },
     "execution_count": 40,
     "metadata": {},
     "output_type": "execute_result"
    }
   ],
   "source": [
    "df.가격[(df.면적 > 130) | (df.가격 < 15000)]"
   ]
  },
  {
   "cell_type": "code",
   "execution_count": 41,
   "metadata": {},
   "outputs": [
    {
     "data": {
      "text/html": [
       "<div>\n",
       "<style scoped>\n",
       "    .dataframe tbody tr th:only-of-type {\n",
       "        vertical-align: middle;\n",
       "    }\n",
       "\n",
       "    .dataframe tbody tr th {\n",
       "        vertical-align: top;\n",
       "    }\n",
       "\n",
       "    .dataframe thead th {\n",
       "        text-align: right;\n",
       "    }\n",
       "</style>\n",
       "<table border=\"1\" class=\"dataframe\">\n",
       "  <thead>\n",
       "    <tr style=\"text-align: right;\">\n",
       "      <th></th>\n",
       "      <th>아파트</th>\n",
       "      <th>가격</th>\n",
       "    </tr>\n",
       "  </thead>\n",
       "  <tbody>\n",
       "    <tr>\n",
       "      <th>0</th>\n",
       "      <td>송정한신</td>\n",
       "      <td>10900</td>\n",
       "    </tr>\n",
       "    <tr>\n",
       "      <th>1</th>\n",
       "      <td>송정한신</td>\n",
       "      <td>18500</td>\n",
       "    </tr>\n",
       "    <tr>\n",
       "      <th>2</th>\n",
       "      <td>송정해변신도브래뉴아파트</td>\n",
       "      <td>25000</td>\n",
       "    </tr>\n",
       "    <tr>\n",
       "      <th>3</th>\n",
       "      <td>송정해변신도브래뉴아파트</td>\n",
       "      <td>20600</td>\n",
       "    </tr>\n",
       "    <tr>\n",
       "      <th>4</th>\n",
       "      <td>송정해변신도브래뉴아파트</td>\n",
       "      <td>20500</td>\n",
       "    </tr>\n",
       "    <tr>\n",
       "      <th>5</th>\n",
       "      <td>강릉 교동 풍림아이원 아파트</td>\n",
       "      <td>29200</td>\n",
       "    </tr>\n",
       "    <tr>\n",
       "      <th>6</th>\n",
       "      <td>강릉교동롯데캐슬1단지</td>\n",
       "      <td>34300</td>\n",
       "    </tr>\n",
       "    <tr>\n",
       "      <th>7</th>\n",
       "      <td>강릉교동롯데캐슬2단지</td>\n",
       "      <td>32500</td>\n",
       "    </tr>\n",
       "    <tr>\n",
       "      <th>8</th>\n",
       "      <td>교동1주공</td>\n",
       "      <td>16200</td>\n",
       "    </tr>\n",
       "    <tr>\n",
       "      <th>9</th>\n",
       "      <td>교동1주공</td>\n",
       "      <td>21550</td>\n",
       "    </tr>\n",
       "    <tr>\n",
       "      <th>10</th>\n",
       "      <td>교동1주공</td>\n",
       "      <td>21800</td>\n",
       "    </tr>\n",
       "  </tbody>\n",
       "</table>\n",
       "</div>"
      ],
      "text/plain": [
       "                아파트     가격\n",
       "0              송정한신  10900\n",
       "1              송정한신  18500\n",
       "2      송정해변신도브래뉴아파트  25000\n",
       "3      송정해변신도브래뉴아파트  20600\n",
       "4      송정해변신도브래뉴아파트  20500\n",
       "5   강릉 교동 풍림아이원 아파트  29200\n",
       "6       강릉교동롯데캐슬1단지  34300\n",
       "7       강릉교동롯데캐슬2단지  32500\n",
       "8             교동1주공  16200\n",
       "9             교동1주공  21550\n",
       "10            교동1주공  21800"
      ]
     },
     "execution_count": 41,
     "metadata": {},
     "output_type": "execute_result"
    }
   ],
   "source": [
    "df.loc[:10, ['아파트', '가격']]"
   ]
  },
  {
   "cell_type": "code",
   "execution_count": 43,
   "metadata": {},
   "outputs": [
    {
     "data": {
      "text/html": [
       "<div>\n",
       "<style scoped>\n",
       "    .dataframe tbody tr th:only-of-type {\n",
       "        vertical-align: middle;\n",
       "    }\n",
       "\n",
       "    .dataframe tbody tr th {\n",
       "        vertical-align: top;\n",
       "    }\n",
       "\n",
       "    .dataframe thead th {\n",
       "        text-align: right;\n",
       "    }\n",
       "</style>\n",
       "<table border=\"1\" class=\"dataframe\">\n",
       "  <thead>\n",
       "    <tr style=\"text-align: right;\">\n",
       "      <th></th>\n",
       "      <th>아파트</th>\n",
       "      <th>가격</th>\n",
       "    </tr>\n",
       "  </thead>\n",
       "  <tbody>\n",
       "    <tr>\n",
       "      <th>382</th>\n",
       "      <td>속초청호아이파크</td>\n",
       "      <td>45800</td>\n",
       "    </tr>\n",
       "    <tr>\n",
       "      <th>541</th>\n",
       "      <td>무실e-편한세상</td>\n",
       "      <td>44600</td>\n",
       "    </tr>\n",
       "    <tr>\n",
       "      <th>592</th>\n",
       "      <td>원주반곡아이파크</td>\n",
       "      <td>40700</td>\n",
       "    </tr>\n",
       "    <tr>\n",
       "      <th>842</th>\n",
       "      <td>온의 롯데캐슬 스카이클래스</td>\n",
       "      <td>44000</td>\n",
       "    </tr>\n",
       "    <tr>\n",
       "      <th>843</th>\n",
       "      <td>온의 롯데캐슬 스카이클래스</td>\n",
       "      <td>42900</td>\n",
       "    </tr>\n",
       "    <tr>\n",
       "      <th>...</th>\n",
       "      <td>...</td>\n",
       "      <td>...</td>\n",
       "    </tr>\n",
       "    <tr>\n",
       "      <th>42364</th>\n",
       "      <td>신영지웰시티 1차</td>\n",
       "      <td>47700</td>\n",
       "    </tr>\n",
       "    <tr>\n",
       "      <th>42365</th>\n",
       "      <td>신영지웰시티 1차</td>\n",
       "      <td>46000</td>\n",
       "    </tr>\n",
       "    <tr>\n",
       "      <th>42366</th>\n",
       "      <td>신영지웰시티 1차</td>\n",
       "      <td>55800</td>\n",
       "    </tr>\n",
       "    <tr>\n",
       "      <th>42367</th>\n",
       "      <td>신영지웰시티 1차</td>\n",
       "      <td>67000</td>\n",
       "    </tr>\n",
       "    <tr>\n",
       "      <th>42424</th>\n",
       "      <td>봉명아이파크</td>\n",
       "      <td>49000</td>\n",
       "    </tr>\n",
       "  </tbody>\n",
       "</table>\n",
       "<p>10486 rows × 2 columns</p>\n",
       "</div>"
      ],
      "text/plain": [
       "                  아파트     가격\n",
       "382          속초청호아이파크  45800\n",
       "541          무실e-편한세상  44600\n",
       "592          원주반곡아이파크  40700\n",
       "842    온의 롯데캐슬 스카이클래스  44000\n",
       "843    온의 롯데캐슬 스카이클래스  42900\n",
       "...               ...    ...\n",
       "42364       신영지웰시티 1차  47700\n",
       "42365       신영지웰시티 1차  46000\n",
       "42366       신영지웰시티 1차  55800\n",
       "42367       신영지웰시티 1차  67000\n",
       "42424          봉명아이파크  49000\n",
       "\n",
       "[10486 rows x 2 columns]"
      ]
     },
     "execution_count": 43,
     "metadata": {},
     "output_type": "execute_result"
    }
   ],
   "source": [
    "df.loc[:, ['아파트', '가격']] [df.가격 > 40000]"
   ]
  },
  {
   "cell_type": "code",
   "execution_count": 44,
   "metadata": {},
   "outputs": [],
   "source": [
    "df['단가'] = df.가격 / df.면적"
   ]
  },
  {
   "cell_type": "code",
   "execution_count": 45,
   "metadata": {},
   "outputs": [
    {
     "data": {
      "text/html": [
       "<div>\n",
       "<style scoped>\n",
       "    .dataframe tbody tr th:only-of-type {\n",
       "        vertical-align: middle;\n",
       "    }\n",
       "\n",
       "    .dataframe tbody tr th {\n",
       "        vertical-align: top;\n",
       "    }\n",
       "\n",
       "    .dataframe thead th {\n",
       "        text-align: right;\n",
       "    }\n",
       "</style>\n",
       "<table border=\"1\" class=\"dataframe\">\n",
       "  <thead>\n",
       "    <tr style=\"text-align: right;\">\n",
       "      <th></th>\n",
       "      <th>가격</th>\n",
       "      <th>면적</th>\n",
       "      <th>단가</th>\n",
       "    </tr>\n",
       "  </thead>\n",
       "  <tbody>\n",
       "    <tr>\n",
       "      <th>0</th>\n",
       "      <td>10900</td>\n",
       "      <td>59.8000</td>\n",
       "      <td>182.274247</td>\n",
       "    </tr>\n",
       "    <tr>\n",
       "      <th>1</th>\n",
       "      <td>18500</td>\n",
       "      <td>116.1750</td>\n",
       "      <td>159.242522</td>\n",
       "    </tr>\n",
       "    <tr>\n",
       "      <th>2</th>\n",
       "      <td>25000</td>\n",
       "      <td>84.9900</td>\n",
       "      <td>294.152253</td>\n",
       "    </tr>\n",
       "    <tr>\n",
       "      <th>3</th>\n",
       "      <td>20600</td>\n",
       "      <td>84.9900</td>\n",
       "      <td>242.381457</td>\n",
       "    </tr>\n",
       "    <tr>\n",
       "      <th>4</th>\n",
       "      <td>20500</td>\n",
       "      <td>84.9900</td>\n",
       "      <td>241.204848</td>\n",
       "    </tr>\n",
       "    <tr>\n",
       "      <th>5</th>\n",
       "      <td>29200</td>\n",
       "      <td>84.9964</td>\n",
       "      <td>343.543962</td>\n",
       "    </tr>\n",
       "    <tr>\n",
       "      <th>6</th>\n",
       "      <td>34300</td>\n",
       "      <td>135.1727</td>\n",
       "      <td>253.749463</td>\n",
       "    </tr>\n",
       "    <tr>\n",
       "      <th>7</th>\n",
       "      <td>32500</td>\n",
       "      <td>118.0686</td>\n",
       "      <td>275.263703</td>\n",
       "    </tr>\n",
       "    <tr>\n",
       "      <th>8</th>\n",
       "      <td>16200</td>\n",
       "      <td>59.8900</td>\n",
       "      <td>270.495909</td>\n",
       "    </tr>\n",
       "    <tr>\n",
       "      <th>9</th>\n",
       "      <td>21550</td>\n",
       "      <td>84.8400</td>\n",
       "      <td>254.007544</td>\n",
       "    </tr>\n",
       "    <tr>\n",
       "      <th>10</th>\n",
       "      <td>21800</td>\n",
       "      <td>84.8400</td>\n",
       "      <td>256.954267</td>\n",
       "    </tr>\n",
       "  </tbody>\n",
       "</table>\n",
       "</div>"
      ],
      "text/plain": [
       "       가격        면적          단가\n",
       "0   10900   59.8000  182.274247\n",
       "1   18500  116.1750  159.242522\n",
       "2   25000   84.9900  294.152253\n",
       "3   20600   84.9900  242.381457\n",
       "4   20500   84.9900  241.204848\n",
       "5   29200   84.9964  343.543962\n",
       "6   34300  135.1727  253.749463\n",
       "7   32500  118.0686  275.263703\n",
       "8   16200   59.8900  270.495909\n",
       "9   21550   84.8400  254.007544\n",
       "10  21800   84.8400  256.954267"
      ]
     },
     "execution_count": 45,
     "metadata": {},
     "output_type": "execute_result"
    }
   ],
   "source": [
    "df.loc[:10, ('가격', '면적', '단가')]"
   ]
  },
  {
   "cell_type": "code",
   "execution_count": 46,
   "metadata": {},
   "outputs": [
    {
     "data": {
      "text/html": [
       "<div>\n",
       "<style scoped>\n",
       "    .dataframe tbody tr th:only-of-type {\n",
       "        vertical-align: middle;\n",
       "    }\n",
       "\n",
       "    .dataframe tbody tr th {\n",
       "        vertical-align: top;\n",
       "    }\n",
       "\n",
       "    .dataframe thead th {\n",
       "        text-align: right;\n",
       "    }\n",
       "</style>\n",
       "<table border=\"1\" class=\"dataframe\">\n",
       "  <thead>\n",
       "    <tr style=\"text-align: right;\">\n",
       "      <th></th>\n",
       "      <th>가격</th>\n",
       "      <th>지역</th>\n",
       "    </tr>\n",
       "  </thead>\n",
       "  <tbody>\n",
       "    <tr>\n",
       "      <th>17024</th>\n",
       "      <td>600</td>\n",
       "      <td>경상북도 구미시 원평동</td>\n",
       "    </tr>\n",
       "    <tr>\n",
       "      <th>17022</th>\n",
       "      <td>700</td>\n",
       "      <td>경상북도 구미시 원평동</td>\n",
       "    </tr>\n",
       "    <tr>\n",
       "      <th>17637</th>\n",
       "      <td>750</td>\n",
       "      <td>경상북도 칠곡군 약목면 관호리</td>\n",
       "    </tr>\n",
       "    <tr>\n",
       "      <th>17031</th>\n",
       "      <td>800</td>\n",
       "      <td>경상북도 구미시 원평동</td>\n",
       "    </tr>\n",
       "    <tr>\n",
       "      <th>17027</th>\n",
       "      <td>800</td>\n",
       "      <td>경상북도 구미시 원평동</td>\n",
       "    </tr>\n",
       "    <tr>\n",
       "      <th>...</th>\n",
       "      <td>...</td>\n",
       "      <td>...</td>\n",
       "    </tr>\n",
       "    <tr>\n",
       "      <th>27036</th>\n",
       "      <td>373000</td>\n",
       "      <td>서울특별시 강남구 대치동</td>\n",
       "    </tr>\n",
       "    <tr>\n",
       "      <th>26805</th>\n",
       "      <td>376640</td>\n",
       "      <td>부산광역시 해운대구 우동</td>\n",
       "    </tr>\n",
       "    <tr>\n",
       "      <th>29946</th>\n",
       "      <td>415000</td>\n",
       "      <td>서울특별시 서초구 반포동</td>\n",
       "    </tr>\n",
       "    <tr>\n",
       "      <th>27061</th>\n",
       "      <td>461000</td>\n",
       "      <td>서울특별시 강남구 도곡동</td>\n",
       "    </tr>\n",
       "    <tr>\n",
       "      <th>31258</th>\n",
       "      <td>485000</td>\n",
       "      <td>서울특별시 용산구 한남동</td>\n",
       "    </tr>\n",
       "  </tbody>\n",
       "</table>\n",
       "<p>42758 rows × 2 columns</p>\n",
       "</div>"
      ],
      "text/plain": [
       "           가격                지역\n",
       "17024     600      경상북도 구미시 원평동\n",
       "17022     700      경상북도 구미시 원평동\n",
       "17637     750  경상북도 칠곡군 약목면 관호리\n",
       "17031     800      경상북도 구미시 원평동\n",
       "17027     800      경상북도 구미시 원평동\n",
       "...       ...               ...\n",
       "27036  373000     서울특별시 강남구 대치동\n",
       "26805  376640     부산광역시 해운대구 우동\n",
       "29946  415000     서울특별시 서초구 반포동\n",
       "27061  461000     서울특별시 강남구 도곡동\n",
       "31258  485000     서울특별시 용산구 한남동\n",
       "\n",
       "[42758 rows x 2 columns]"
      ]
     },
     "execution_count": 46,
     "metadata": {},
     "output_type": "execute_result"
    }
   ],
   "source": [
    "df.sort_values(by = '가격').loc[:, ('가격', '지역')]"
   ]
  },
  {
   "cell_type": "code",
   "execution_count": 47,
   "metadata": {},
   "outputs": [
    {
     "data": {
      "text/html": [
       "<div>\n",
       "<style scoped>\n",
       "    .dataframe tbody tr th:only-of-type {\n",
       "        vertical-align: middle;\n",
       "    }\n",
       "\n",
       "    .dataframe tbody tr th {\n",
       "        vertical-align: top;\n",
       "    }\n",
       "\n",
       "    .dataframe thead th {\n",
       "        text-align: right;\n",
       "    }\n",
       "</style>\n",
       "<table border=\"1\" class=\"dataframe\">\n",
       "  <thead>\n",
       "    <tr style=\"text-align: right;\">\n",
       "      <th></th>\n",
       "      <th>가격</th>\n",
       "      <th>지역</th>\n",
       "    </tr>\n",
       "  </thead>\n",
       "  <tbody>\n",
       "    <tr>\n",
       "      <th>31258</th>\n",
       "      <td>485000</td>\n",
       "      <td>서울특별시 용산구 한남동</td>\n",
       "    </tr>\n",
       "    <tr>\n",
       "      <th>27061</th>\n",
       "      <td>461000</td>\n",
       "      <td>서울특별시 강남구 도곡동</td>\n",
       "    </tr>\n",
       "    <tr>\n",
       "      <th>29946</th>\n",
       "      <td>415000</td>\n",
       "      <td>서울특별시 서초구 반포동</td>\n",
       "    </tr>\n",
       "    <tr>\n",
       "      <th>26805</th>\n",
       "      <td>376640</td>\n",
       "      <td>부산광역시 해운대구 우동</td>\n",
       "    </tr>\n",
       "    <tr>\n",
       "      <th>27036</th>\n",
       "      <td>373000</td>\n",
       "      <td>서울특별시 강남구 대치동</td>\n",
       "    </tr>\n",
       "    <tr>\n",
       "      <th>...</th>\n",
       "      <td>...</td>\n",
       "      <td>...</td>\n",
       "    </tr>\n",
       "    <tr>\n",
       "      <th>17027</th>\n",
       "      <td>800</td>\n",
       "      <td>경상북도 구미시 원평동</td>\n",
       "    </tr>\n",
       "    <tr>\n",
       "      <th>17025</th>\n",
       "      <td>800</td>\n",
       "      <td>경상북도 구미시 원평동</td>\n",
       "    </tr>\n",
       "    <tr>\n",
       "      <th>17637</th>\n",
       "      <td>750</td>\n",
       "      <td>경상북도 칠곡군 약목면 관호리</td>\n",
       "    </tr>\n",
       "    <tr>\n",
       "      <th>17022</th>\n",
       "      <td>700</td>\n",
       "      <td>경상북도 구미시 원평동</td>\n",
       "    </tr>\n",
       "    <tr>\n",
       "      <th>17024</th>\n",
       "      <td>600</td>\n",
       "      <td>경상북도 구미시 원평동</td>\n",
       "    </tr>\n",
       "  </tbody>\n",
       "</table>\n",
       "<p>42758 rows × 2 columns</p>\n",
       "</div>"
      ],
      "text/plain": [
       "           가격                지역\n",
       "31258  485000     서울특별시 용산구 한남동\n",
       "27061  461000     서울특별시 강남구 도곡동\n",
       "29946  415000     서울특별시 서초구 반포동\n",
       "26805  376640     부산광역시 해운대구 우동\n",
       "27036  373000     서울특별시 강남구 대치동\n",
       "...       ...               ...\n",
       "17027     800      경상북도 구미시 원평동\n",
       "17025     800      경상북도 구미시 원평동\n",
       "17637     750  경상북도 칠곡군 약목면 관호리\n",
       "17022     700      경상북도 구미시 원평동\n",
       "17024     600      경상북도 구미시 원평동\n",
       "\n",
       "[42758 rows x 2 columns]"
      ]
     },
     "execution_count": 47,
     "metadata": {},
     "output_type": "execute_result"
    }
   ],
   "source": [
    "df.sort_values(by = '가격', ascending = False).loc[:, ('가격', '지역')]"
   ]
  },
  {
   "cell_type": "code",
   "execution_count": 49,
   "metadata": {},
   "outputs": [
    {
     "data": {
      "text/html": [
       "<div>\n",
       "<style scoped>\n",
       "    .dataframe tbody tr th:only-of-type {\n",
       "        vertical-align: middle;\n",
       "    }\n",
       "\n",
       "    .dataframe tbody tr th {\n",
       "        vertical-align: top;\n",
       "    }\n",
       "\n",
       "    .dataframe thead th {\n",
       "        text-align: right;\n",
       "    }\n",
       "</style>\n",
       "<table border=\"1\" class=\"dataframe\">\n",
       "  <thead>\n",
       "    <tr style=\"text-align: right;\">\n",
       "      <th></th>\n",
       "      <th>가격</th>\n",
       "      <th>면적</th>\n",
       "      <th>지역</th>\n",
       "    </tr>\n",
       "  </thead>\n",
       "  <tbody>\n",
       "    <tr>\n",
       "      <th>29946</th>\n",
       "      <td>415000</td>\n",
       "      <td>129.920</td>\n",
       "      <td>서울특별시 서초구 반포동</td>\n",
       "    </tr>\n",
       "    <tr>\n",
       "      <th>27061</th>\n",
       "      <td>461000</td>\n",
       "      <td>210.500</td>\n",
       "      <td>서울특별시 강남구 도곡동</td>\n",
       "    </tr>\n",
       "    <tr>\n",
       "      <th>31258</th>\n",
       "      <td>485000</td>\n",
       "      <td>233.062</td>\n",
       "      <td>서울특별시 용산구 한남동</td>\n",
       "    </tr>\n",
       "  </tbody>\n",
       "</table>\n",
       "</div>"
      ],
      "text/plain": [
       "           가격       면적             지역\n",
       "29946  415000  129.920  서울특별시 서초구 반포동\n",
       "27061  461000  210.500  서울특별시 강남구 도곡동\n",
       "31258  485000  233.062  서울특별시 용산구 한남동"
      ]
     },
     "execution_count": 49,
     "metadata": {},
     "output_type": "execute_result"
    }
   ],
   "source": [
    "df[df.가격 > 400000].sort_values(by= '면적').loc[:, ('가격', '면적', '지역')]"
   ]
  },
  {
   "cell_type": "code",
   "execution_count": 50,
   "metadata": {},
   "outputs": [
    {
     "data": {
      "text/plain": [
       "0        4\n",
       "1        4\n",
       "2        4\n",
       "3        4\n",
       "4        4\n",
       "        ..\n",
       "42753   -1\n",
       "42754   -1\n",
       "42755   -1\n",
       "42756   -1\n",
       "42757   -1\n",
       "Name: 지역, Length: 42758, dtype: int64"
      ]
     },
     "execution_count": 50,
     "metadata": {},
     "output_type": "execute_result"
    }
   ],
   "source": [
    "df.지역.str.find('강릉')"
   ]
  },
  {
   "cell_type": "code",
   "execution_count": 51,
   "metadata": {},
   "outputs": [
    {
     "data": {
      "text/html": [
       "<div>\n",
       "<style scoped>\n",
       "    .dataframe tbody tr th:only-of-type {\n",
       "        vertical-align: middle;\n",
       "    }\n",
       "\n",
       "    .dataframe tbody tr th {\n",
       "        vertical-align: top;\n",
       "    }\n",
       "\n",
       "    .dataframe thead th {\n",
       "        text-align: right;\n",
       "    }\n",
       "</style>\n",
       "<table border=\"1\" class=\"dataframe\">\n",
       "  <thead>\n",
       "    <tr style=\"text-align: right;\">\n",
       "      <th></th>\n",
       "      <th>지역</th>\n",
       "      <th>번지</th>\n",
       "      <th>본번</th>\n",
       "      <th>부번</th>\n",
       "      <th>아파트</th>\n",
       "      <th>면적</th>\n",
       "      <th>계약년월</th>\n",
       "      <th>계약일</th>\n",
       "      <th>가격</th>\n",
       "      <th>층</th>\n",
       "      <th>건축년도</th>\n",
       "      <th>도로명</th>\n",
       "      <th>단가</th>\n",
       "    </tr>\n",
       "  </thead>\n",
       "  <tbody>\n",
       "    <tr>\n",
       "      <th>0</th>\n",
       "      <td>강원도 강릉시 견소동</td>\n",
       "      <td>202</td>\n",
       "      <td>202</td>\n",
       "      <td>0</td>\n",
       "      <td>송정한신</td>\n",
       "      <td>59.8000</td>\n",
       "      <td>201910</td>\n",
       "      <td>4</td>\n",
       "      <td>10900</td>\n",
       "      <td>5</td>\n",
       "      <td>1997</td>\n",
       "      <td>경강로2539번길 8</td>\n",
       "      <td>182.274247</td>\n",
       "    </tr>\n",
       "    <tr>\n",
       "      <th>1</th>\n",
       "      <td>강원도 강릉시 견소동</td>\n",
       "      <td>202</td>\n",
       "      <td>202</td>\n",
       "      <td>0</td>\n",
       "      <td>송정한신</td>\n",
       "      <td>116.1750</td>\n",
       "      <td>201910</td>\n",
       "      <td>31</td>\n",
       "      <td>18500</td>\n",
       "      <td>10</td>\n",
       "      <td>1997</td>\n",
       "      <td>경강로2539번길 8</td>\n",
       "      <td>159.242522</td>\n",
       "    </tr>\n",
       "    <tr>\n",
       "      <th>2</th>\n",
       "      <td>강원도 강릉시 견소동</td>\n",
       "      <td>289</td>\n",
       "      <td>289</td>\n",
       "      <td>0</td>\n",
       "      <td>송정해변신도브래뉴아파트</td>\n",
       "      <td>84.9900</td>\n",
       "      <td>201910</td>\n",
       "      <td>5</td>\n",
       "      <td>25000</td>\n",
       "      <td>6</td>\n",
       "      <td>2005</td>\n",
       "      <td>경강로2539번길 22</td>\n",
       "      <td>294.152253</td>\n",
       "    </tr>\n",
       "    <tr>\n",
       "      <th>3</th>\n",
       "      <td>강원도 강릉시 견소동</td>\n",
       "      <td>289</td>\n",
       "      <td>289</td>\n",
       "      <td>0</td>\n",
       "      <td>송정해변신도브래뉴아파트</td>\n",
       "      <td>84.9900</td>\n",
       "      <td>201910</td>\n",
       "      <td>12</td>\n",
       "      <td>20600</td>\n",
       "      <td>3</td>\n",
       "      <td>2005</td>\n",
       "      <td>경강로2539번길 22</td>\n",
       "      <td>242.381457</td>\n",
       "    </tr>\n",
       "    <tr>\n",
       "      <th>4</th>\n",
       "      <td>강원도 강릉시 견소동</td>\n",
       "      <td>289</td>\n",
       "      <td>289</td>\n",
       "      <td>0</td>\n",
       "      <td>송정해변신도브래뉴아파트</td>\n",
       "      <td>84.9900</td>\n",
       "      <td>201910</td>\n",
       "      <td>20</td>\n",
       "      <td>20500</td>\n",
       "      <td>1</td>\n",
       "      <td>2005</td>\n",
       "      <td>경강로2539번길 22</td>\n",
       "      <td>241.204848</td>\n",
       "    </tr>\n",
       "    <tr>\n",
       "      <th>...</th>\n",
       "      <td>...</td>\n",
       "      <td>...</td>\n",
       "      <td>...</td>\n",
       "      <td>...</td>\n",
       "      <td>...</td>\n",
       "      <td>...</td>\n",
       "      <td>...</td>\n",
       "      <td>...</td>\n",
       "      <td>...</td>\n",
       "      <td>...</td>\n",
       "      <td>...</td>\n",
       "      <td>...</td>\n",
       "      <td>...</td>\n",
       "    </tr>\n",
       "    <tr>\n",
       "      <th>183</th>\n",
       "      <td>강원도 강릉시 회산동</td>\n",
       "      <td>608</td>\n",
       "      <td>608</td>\n",
       "      <td>0</td>\n",
       "      <td>강릉서희스타힐스리버파크</td>\n",
       "      <td>84.8956</td>\n",
       "      <td>201910</td>\n",
       "      <td>24</td>\n",
       "      <td>24000</td>\n",
       "      <td>10</td>\n",
       "      <td>2017</td>\n",
       "      <td>회산로 344</td>\n",
       "      <td>282.700163</td>\n",
       "    </tr>\n",
       "    <tr>\n",
       "      <th>184</th>\n",
       "      <td>강원도 강릉시 회산동</td>\n",
       "      <td>130</td>\n",
       "      <td>130</td>\n",
       "      <td>0</td>\n",
       "      <td>힐스테이트 강릉</td>\n",
       "      <td>84.9925</td>\n",
       "      <td>201910</td>\n",
       "      <td>7</td>\n",
       "      <td>24000</td>\n",
       "      <td>3</td>\n",
       "      <td>2018</td>\n",
       "      <td>회산로383번길 37</td>\n",
       "      <td>282.377857</td>\n",
       "    </tr>\n",
       "    <tr>\n",
       "      <th>185</th>\n",
       "      <td>강원도 강릉시 회산동</td>\n",
       "      <td>130</td>\n",
       "      <td>130</td>\n",
       "      <td>0</td>\n",
       "      <td>힐스테이트 강릉</td>\n",
       "      <td>74.9974</td>\n",
       "      <td>201910</td>\n",
       "      <td>19</td>\n",
       "      <td>23000</td>\n",
       "      <td>15</td>\n",
       "      <td>2018</td>\n",
       "      <td>회산로383번길 37</td>\n",
       "      <td>306.677298</td>\n",
       "    </tr>\n",
       "    <tr>\n",
       "      <th>186</th>\n",
       "      <td>강원도 강릉시 회산동</td>\n",
       "      <td>130</td>\n",
       "      <td>130</td>\n",
       "      <td>0</td>\n",
       "      <td>힐스테이트 강릉</td>\n",
       "      <td>74.9985</td>\n",
       "      <td>201910</td>\n",
       "      <td>21</td>\n",
       "      <td>24100</td>\n",
       "      <td>6</td>\n",
       "      <td>2018</td>\n",
       "      <td>회산로383번길 37</td>\n",
       "      <td>321.339760</td>\n",
       "    </tr>\n",
       "    <tr>\n",
       "      <th>187</th>\n",
       "      <td>강원도 강릉시 회산동</td>\n",
       "      <td>130</td>\n",
       "      <td>130</td>\n",
       "      <td>0</td>\n",
       "      <td>힐스테이트 강릉</td>\n",
       "      <td>74.9974</td>\n",
       "      <td>201910</td>\n",
       "      <td>29</td>\n",
       "      <td>25400</td>\n",
       "      <td>13</td>\n",
       "      <td>2018</td>\n",
       "      <td>회산로383번길 37</td>\n",
       "      <td>338.678408</td>\n",
       "    </tr>\n",
       "  </tbody>\n",
       "</table>\n",
       "<p>188 rows × 13 columns</p>\n",
       "</div>"
      ],
      "text/plain": [
       "              지역   번지   본번  부번           아파트        면적    계약년월  계약일     가격  \\\n",
       "0    강원도 강릉시 견소동  202  202   0          송정한신   59.8000  201910    4  10900   \n",
       "1    강원도 강릉시 견소동  202  202   0          송정한신  116.1750  201910   31  18500   \n",
       "2    강원도 강릉시 견소동  289  289   0  송정해변신도브래뉴아파트   84.9900  201910    5  25000   \n",
       "3    강원도 강릉시 견소동  289  289   0  송정해변신도브래뉴아파트   84.9900  201910   12  20600   \n",
       "4    강원도 강릉시 견소동  289  289   0  송정해변신도브래뉴아파트   84.9900  201910   20  20500   \n",
       "..           ...  ...  ...  ..           ...       ...     ...  ...    ...   \n",
       "183  강원도 강릉시 회산동  608  608   0  강릉서희스타힐스리버파크   84.8956  201910   24  24000   \n",
       "184  강원도 강릉시 회산동  130  130   0      힐스테이트 강릉   84.9925  201910    7  24000   \n",
       "185  강원도 강릉시 회산동  130  130   0      힐스테이트 강릉   74.9974  201910   19  23000   \n",
       "186  강원도 강릉시 회산동  130  130   0      힐스테이트 강릉   74.9985  201910   21  24100   \n",
       "187  강원도 강릉시 회산동  130  130   0      힐스테이트 강릉   74.9974  201910   29  25400   \n",
       "\n",
       "      층  건축년도           도로명          단가  \n",
       "0     5  1997   경강로2539번길 8  182.274247  \n",
       "1    10  1997   경강로2539번길 8  159.242522  \n",
       "2     6  2005  경강로2539번길 22  294.152253  \n",
       "3     3  2005  경강로2539번길 22  242.381457  \n",
       "4     1  2005  경강로2539번길 22  241.204848  \n",
       "..   ..   ...           ...         ...  \n",
       "183  10  2017       회산로 344  282.700163  \n",
       "184   3  2018   회산로383번길 37  282.377857  \n",
       "185  15  2018   회산로383번길 37  306.677298  \n",
       "186   6  2018   회산로383번길 37  321.339760  \n",
       "187  13  2018   회산로383번길 37  338.678408  \n",
       "\n",
       "[188 rows x 13 columns]"
      ]
     },
     "execution_count": 51,
     "metadata": {},
     "output_type": "execute_result"
    }
   ],
   "source": [
    "df[df.지역.str.find('강릉') > -1]"
   ]
  },
  {
   "cell_type": "code",
   "execution_count": 52,
   "metadata": {},
   "outputs": [],
   "source": [
    "dfF = df[df.지역.str.find('강릉') > -1]"
   ]
  },
  {
   "cell_type": "code",
   "execution_count": 53,
   "metadata": {},
   "outputs": [
    {
     "data": {
      "text/plain": [
       "본번               inf\n",
       "부번      1.085106e+00\n",
       "면적      7.047780e+01\n",
       "계약년월    2.019100e+05\n",
       "계약일     1.527128e+01\n",
       "가격      1.541457e+04\n",
       "층       7.420213e+00\n",
       "건축년도    2.000463e+03\n",
       "단가      2.099422e+02\n",
       "dtype: float64"
      ]
     },
     "execution_count": 53,
     "metadata": {},
     "output_type": "execute_result"
    }
   ],
   "source": [
    "dfF.mean()"
   ]
  },
  {
   "cell_type": "code",
   "execution_count": 55,
   "metadata": {},
   "outputs": [
    {
     "ename": "AttributeError",
     "evalue": "Can only use .str accessor with string values!",
     "output_type": "error",
     "traceback": [
      "\u001b[1;31m---------------------------------------------------------------------------\u001b[0m",
      "\u001b[1;31mAttributeError\u001b[0m                            Traceback (most recent call last)",
      "\u001b[1;32m<ipython-input-55-4dd0a5aff51a>\u001b[0m in \u001b[0;36m<module>\u001b[1;34m\u001b[0m\n\u001b[1;32m----> 1\u001b[1;33m \u001b[0mdf\u001b[0m\u001b[1;33m.\u001b[0m\u001b[0m가격\u001b[0m \u001b[1;33m=\u001b[0m \u001b[0mdf\u001b[0m\u001b[1;33m.\u001b[0m\u001b[0m가격\u001b[0m\u001b[1;33m.\u001b[0m\u001b[0mstr\u001b[0m\u001b[1;33m.\u001b[0m\u001b[0mreplace\u001b[0m\u001b[1;33m(\u001b[0m\u001b[1;34m','\u001b[0m\u001b[1;33m,\u001b[0m \u001b[1;34m''\u001b[0m\u001b[1;33m)\u001b[0m\u001b[1;33m.\u001b[0m\u001b[0mastype\u001b[0m\u001b[1;33m(\u001b[0m\u001b[1;34m'int64'\u001b[0m\u001b[1;33m)\u001b[0m\u001b[1;33m\u001b[0m\u001b[1;33m\u001b[0m\u001b[0m\n\u001b[0m",
      "\u001b[1;32mC:\\ProgramData\\Anaconda3\\lib\\site-packages\\pandas\\core\\generic.py\u001b[0m in \u001b[0;36m__getattr__\u001b[1;34m(self, name)\u001b[0m\n\u001b[0;32m   5268\u001b[0m             \u001b[1;32mor\u001b[0m \u001b[0mname\u001b[0m \u001b[1;32min\u001b[0m \u001b[0mself\u001b[0m\u001b[1;33m.\u001b[0m\u001b[0m_accessors\u001b[0m\u001b[1;33m\u001b[0m\u001b[1;33m\u001b[0m\u001b[0m\n\u001b[0;32m   5269\u001b[0m         ):\n\u001b[1;32m-> 5270\u001b[1;33m             \u001b[1;32mreturn\u001b[0m \u001b[0mobject\u001b[0m\u001b[1;33m.\u001b[0m\u001b[0m__getattribute__\u001b[0m\u001b[1;33m(\u001b[0m\u001b[0mself\u001b[0m\u001b[1;33m,\u001b[0m \u001b[0mname\u001b[0m\u001b[1;33m)\u001b[0m\u001b[1;33m\u001b[0m\u001b[1;33m\u001b[0m\u001b[0m\n\u001b[0m\u001b[0;32m   5271\u001b[0m         \u001b[1;32melse\u001b[0m\u001b[1;33m:\u001b[0m\u001b[1;33m\u001b[0m\u001b[1;33m\u001b[0m\u001b[0m\n\u001b[0;32m   5272\u001b[0m             \u001b[1;32mif\u001b[0m \u001b[0mself\u001b[0m\u001b[1;33m.\u001b[0m\u001b[0m_info_axis\u001b[0m\u001b[1;33m.\u001b[0m\u001b[0m_can_hold_identifiers_and_holds_name\u001b[0m\u001b[1;33m(\u001b[0m\u001b[0mname\u001b[0m\u001b[1;33m)\u001b[0m\u001b[1;33m:\u001b[0m\u001b[1;33m\u001b[0m\u001b[1;33m\u001b[0m\u001b[0m\n",
      "\u001b[1;32mC:\\ProgramData\\Anaconda3\\lib\\site-packages\\pandas\\core\\accessor.py\u001b[0m in \u001b[0;36m__get__\u001b[1;34m(self, obj, cls)\u001b[0m\n\u001b[0;32m    185\u001b[0m             \u001b[1;31m# we're accessing the attribute of the class, i.e., Dataset.geo\u001b[0m\u001b[1;33m\u001b[0m\u001b[1;33m\u001b[0m\u001b[1;33m\u001b[0m\u001b[0m\n\u001b[0;32m    186\u001b[0m             \u001b[1;32mreturn\u001b[0m \u001b[0mself\u001b[0m\u001b[1;33m.\u001b[0m\u001b[0m_accessor\u001b[0m\u001b[1;33m\u001b[0m\u001b[1;33m\u001b[0m\u001b[0m\n\u001b[1;32m--> 187\u001b[1;33m         \u001b[0maccessor_obj\u001b[0m \u001b[1;33m=\u001b[0m \u001b[0mself\u001b[0m\u001b[1;33m.\u001b[0m\u001b[0m_accessor\u001b[0m\u001b[1;33m(\u001b[0m\u001b[0mobj\u001b[0m\u001b[1;33m)\u001b[0m\u001b[1;33m\u001b[0m\u001b[1;33m\u001b[0m\u001b[0m\n\u001b[0m\u001b[0;32m    188\u001b[0m         \u001b[1;31m# Replace the property with the accessor object. Inspired by:\u001b[0m\u001b[1;33m\u001b[0m\u001b[1;33m\u001b[0m\u001b[1;33m\u001b[0m\u001b[0m\n\u001b[0;32m    189\u001b[0m         \u001b[1;31m# http://www.pydanny.com/cached-property.html\u001b[0m\u001b[1;33m\u001b[0m\u001b[1;33m\u001b[0m\u001b[1;33m\u001b[0m\u001b[0m\n",
      "\u001b[1;32mC:\\ProgramData\\Anaconda3\\lib\\site-packages\\pandas\\core\\strings.py\u001b[0m in \u001b[0;36m__init__\u001b[1;34m(self, data)\u001b[0m\n\u001b[0;32m   2039\u001b[0m \u001b[1;33m\u001b[0m\u001b[0m\n\u001b[0;32m   2040\u001b[0m     \u001b[1;32mdef\u001b[0m \u001b[0m__init__\u001b[0m\u001b[1;33m(\u001b[0m\u001b[0mself\u001b[0m\u001b[1;33m,\u001b[0m \u001b[0mdata\u001b[0m\u001b[1;33m)\u001b[0m\u001b[1;33m:\u001b[0m\u001b[1;33m\u001b[0m\u001b[1;33m\u001b[0m\u001b[0m\n\u001b[1;32m-> 2041\u001b[1;33m         \u001b[0mself\u001b[0m\u001b[1;33m.\u001b[0m\u001b[0m_inferred_dtype\u001b[0m \u001b[1;33m=\u001b[0m \u001b[0mself\u001b[0m\u001b[1;33m.\u001b[0m\u001b[0m_validate\u001b[0m\u001b[1;33m(\u001b[0m\u001b[0mdata\u001b[0m\u001b[1;33m)\u001b[0m\u001b[1;33m\u001b[0m\u001b[1;33m\u001b[0m\u001b[0m\n\u001b[0m\u001b[0;32m   2042\u001b[0m         \u001b[0mself\u001b[0m\u001b[1;33m.\u001b[0m\u001b[0m_is_categorical\u001b[0m \u001b[1;33m=\u001b[0m \u001b[0mis_categorical_dtype\u001b[0m\u001b[1;33m(\u001b[0m\u001b[0mdata\u001b[0m\u001b[1;33m)\u001b[0m\u001b[1;33m\u001b[0m\u001b[1;33m\u001b[0m\u001b[0m\n\u001b[0;32m   2043\u001b[0m         \u001b[0mself\u001b[0m\u001b[1;33m.\u001b[0m\u001b[0m_is_string\u001b[0m \u001b[1;33m=\u001b[0m \u001b[0mdata\u001b[0m\u001b[1;33m.\u001b[0m\u001b[0mdtype\u001b[0m\u001b[1;33m.\u001b[0m\u001b[0mname\u001b[0m \u001b[1;33m==\u001b[0m \u001b[1;34m\"string\"\u001b[0m\u001b[1;33m\u001b[0m\u001b[1;33m\u001b[0m\u001b[0m\n",
      "\u001b[1;32mC:\\ProgramData\\Anaconda3\\lib\\site-packages\\pandas\\core\\strings.py\u001b[0m in \u001b[0;36m_validate\u001b[1;34m(data)\u001b[0m\n\u001b[0;32m   2096\u001b[0m \u001b[1;33m\u001b[0m\u001b[0m\n\u001b[0;32m   2097\u001b[0m         \u001b[1;32mif\u001b[0m \u001b[0minferred_dtype\u001b[0m \u001b[1;32mnot\u001b[0m \u001b[1;32min\u001b[0m \u001b[0mallowed_types\u001b[0m\u001b[1;33m:\u001b[0m\u001b[1;33m\u001b[0m\u001b[1;33m\u001b[0m\u001b[0m\n\u001b[1;32m-> 2098\u001b[1;33m             \u001b[1;32mraise\u001b[0m \u001b[0mAttributeError\u001b[0m\u001b[1;33m(\u001b[0m\u001b[1;34m\"Can only use .str accessor with string values!\"\u001b[0m\u001b[1;33m)\u001b[0m\u001b[1;33m\u001b[0m\u001b[1;33m\u001b[0m\u001b[0m\n\u001b[0m\u001b[0;32m   2099\u001b[0m         \u001b[1;32mreturn\u001b[0m \u001b[0minferred_dtype\u001b[0m\u001b[1;33m\u001b[0m\u001b[1;33m\u001b[0m\u001b[0m\n\u001b[0;32m   2100\u001b[0m \u001b[1;33m\u001b[0m\u001b[0m\n",
      "\u001b[1;31mAttributeError\u001b[0m: Can only use .str accessor with string values!"
     ]
    }
   ],
   "source": [
    "df.가격 = df.가격.str.replace(',', '').astype('int64')"
   ]
  },
  {
   "cell_type": "code",
   "execution_count": 58,
   "metadata": {},
   "outputs": [],
   "source": [
    "df = pd.read_csv('apt_comma.csv', encoding = 'cp949')"
   ]
  },
  {
   "cell_type": "code",
   "execution_count": 59,
   "metadata": {},
   "outputs": [
    {
     "ename": "TypeError",
     "evalue": "'>' not supported between instances of 'str' and 'int'",
     "output_type": "error",
     "traceback": [
      "\u001b[1;31m---------------------------------------------------------------------------\u001b[0m",
      "\u001b[1;31mTypeError\u001b[0m                                 Traceback (most recent call last)",
      "\u001b[1;32m<ipython-input-59-5e932270fa20>\u001b[0m in \u001b[0;36m<module>\u001b[1;34m\u001b[0m\n\u001b[1;32m----> 1\u001b[1;33m \u001b[0mdf\u001b[0m\u001b[1;33m.\u001b[0m\u001b[0m가격\u001b[0m \u001b[1;33m>\u001b[0m \u001b[1;36m100000\u001b[0m\u001b[1;33m\u001b[0m\u001b[1;33m\u001b[0m\u001b[0m\n\u001b[0m",
      "\u001b[1;32mC:\\ProgramData\\Anaconda3\\lib\\site-packages\\pandas\\core\\ops\\common.py\u001b[0m in \u001b[0;36mnew_method\u001b[1;34m(self, other)\u001b[0m\n\u001b[0;32m     62\u001b[0m         \u001b[0mother\u001b[0m \u001b[1;33m=\u001b[0m \u001b[0mitem_from_zerodim\u001b[0m\u001b[1;33m(\u001b[0m\u001b[0mother\u001b[0m\u001b[1;33m)\u001b[0m\u001b[1;33m\u001b[0m\u001b[1;33m\u001b[0m\u001b[0m\n\u001b[0;32m     63\u001b[0m \u001b[1;33m\u001b[0m\u001b[0m\n\u001b[1;32m---> 64\u001b[1;33m         \u001b[1;32mreturn\u001b[0m \u001b[0mmethod\u001b[0m\u001b[1;33m(\u001b[0m\u001b[0mself\u001b[0m\u001b[1;33m,\u001b[0m \u001b[0mother\u001b[0m\u001b[1;33m)\u001b[0m\u001b[1;33m\u001b[0m\u001b[1;33m\u001b[0m\u001b[0m\n\u001b[0m\u001b[0;32m     65\u001b[0m \u001b[1;33m\u001b[0m\u001b[0m\n\u001b[0;32m     66\u001b[0m     \u001b[1;32mreturn\u001b[0m \u001b[0mnew_method\u001b[0m\u001b[1;33m\u001b[0m\u001b[1;33m\u001b[0m\u001b[0m\n",
      "\u001b[1;32mC:\\ProgramData\\Anaconda3\\lib\\site-packages\\pandas\\core\\ops\\__init__.py\u001b[0m in \u001b[0;36mwrapper\u001b[1;34m(self, other)\u001b[0m\n\u001b[0;32m    527\u001b[0m         \u001b[0mrvalues\u001b[0m \u001b[1;33m=\u001b[0m \u001b[0mextract_array\u001b[0m\u001b[1;33m(\u001b[0m\u001b[0mother\u001b[0m\u001b[1;33m,\u001b[0m \u001b[0mextract_numpy\u001b[0m\u001b[1;33m=\u001b[0m\u001b[1;32mTrue\u001b[0m\u001b[1;33m)\u001b[0m\u001b[1;33m\u001b[0m\u001b[1;33m\u001b[0m\u001b[0m\n\u001b[0;32m    528\u001b[0m \u001b[1;33m\u001b[0m\u001b[0m\n\u001b[1;32m--> 529\u001b[1;33m         \u001b[0mres_values\u001b[0m \u001b[1;33m=\u001b[0m \u001b[0mcomparison_op\u001b[0m\u001b[1;33m(\u001b[0m\u001b[0mlvalues\u001b[0m\u001b[1;33m,\u001b[0m \u001b[0mrvalues\u001b[0m\u001b[1;33m,\u001b[0m \u001b[0mop\u001b[0m\u001b[1;33m)\u001b[0m\u001b[1;33m\u001b[0m\u001b[1;33m\u001b[0m\u001b[0m\n\u001b[0m\u001b[0;32m    530\u001b[0m \u001b[1;33m\u001b[0m\u001b[0m\n\u001b[0;32m    531\u001b[0m         \u001b[1;32mreturn\u001b[0m \u001b[0m_construct_result\u001b[0m\u001b[1;33m(\u001b[0m\u001b[0mself\u001b[0m\u001b[1;33m,\u001b[0m \u001b[0mres_values\u001b[0m\u001b[1;33m,\u001b[0m \u001b[0mindex\u001b[0m\u001b[1;33m=\u001b[0m\u001b[0mself\u001b[0m\u001b[1;33m.\u001b[0m\u001b[0mindex\u001b[0m\u001b[1;33m,\u001b[0m \u001b[0mname\u001b[0m\u001b[1;33m=\u001b[0m\u001b[0mres_name\u001b[0m\u001b[1;33m)\u001b[0m\u001b[1;33m\u001b[0m\u001b[1;33m\u001b[0m\u001b[0m\n",
      "\u001b[1;32mC:\\ProgramData\\Anaconda3\\lib\\site-packages\\pandas\\core\\ops\\array_ops.py\u001b[0m in \u001b[0;36mcomparison_op\u001b[1;34m(left, right, op)\u001b[0m\n\u001b[0;32m    245\u001b[0m \u001b[1;33m\u001b[0m\u001b[0m\n\u001b[0;32m    246\u001b[0m     \u001b[1;32melif\u001b[0m \u001b[0mis_object_dtype\u001b[0m\u001b[1;33m(\u001b[0m\u001b[0mlvalues\u001b[0m\u001b[1;33m.\u001b[0m\u001b[0mdtype\u001b[0m\u001b[1;33m)\u001b[0m\u001b[1;33m:\u001b[0m\u001b[1;33m\u001b[0m\u001b[1;33m\u001b[0m\u001b[0m\n\u001b[1;32m--> 247\u001b[1;33m         \u001b[0mres_values\u001b[0m \u001b[1;33m=\u001b[0m \u001b[0mcomp_method_OBJECT_ARRAY\u001b[0m\u001b[1;33m(\u001b[0m\u001b[0mop\u001b[0m\u001b[1;33m,\u001b[0m \u001b[0mlvalues\u001b[0m\u001b[1;33m,\u001b[0m \u001b[0mrvalues\u001b[0m\u001b[1;33m)\u001b[0m\u001b[1;33m\u001b[0m\u001b[1;33m\u001b[0m\u001b[0m\n\u001b[0m\u001b[0;32m    248\u001b[0m \u001b[1;33m\u001b[0m\u001b[0m\n\u001b[0;32m    249\u001b[0m     \u001b[1;32melse\u001b[0m\u001b[1;33m:\u001b[0m\u001b[1;33m\u001b[0m\u001b[1;33m\u001b[0m\u001b[0m\n",
      "\u001b[1;32mC:\\ProgramData\\Anaconda3\\lib\\site-packages\\pandas\\core\\ops\\array_ops.py\u001b[0m in \u001b[0;36mcomp_method_OBJECT_ARRAY\u001b[1;34m(op, x, y)\u001b[0m\n\u001b[0;32m     55\u001b[0m         \u001b[0mresult\u001b[0m \u001b[1;33m=\u001b[0m \u001b[0mlibops\u001b[0m\u001b[1;33m.\u001b[0m\u001b[0mvec_compare\u001b[0m\u001b[1;33m(\u001b[0m\u001b[0mx\u001b[0m\u001b[1;33m.\u001b[0m\u001b[0mravel\u001b[0m\u001b[1;33m(\u001b[0m\u001b[1;33m)\u001b[0m\u001b[1;33m,\u001b[0m \u001b[0my\u001b[0m\u001b[1;33m,\u001b[0m \u001b[0mop\u001b[0m\u001b[1;33m)\u001b[0m\u001b[1;33m\u001b[0m\u001b[1;33m\u001b[0m\u001b[0m\n\u001b[0;32m     56\u001b[0m     \u001b[1;32melse\u001b[0m\u001b[1;33m:\u001b[0m\u001b[1;33m\u001b[0m\u001b[1;33m\u001b[0m\u001b[0m\n\u001b[1;32m---> 57\u001b[1;33m         \u001b[0mresult\u001b[0m \u001b[1;33m=\u001b[0m \u001b[0mlibops\u001b[0m\u001b[1;33m.\u001b[0m\u001b[0mscalar_compare\u001b[0m\u001b[1;33m(\u001b[0m\u001b[0mx\u001b[0m\u001b[1;33m.\u001b[0m\u001b[0mravel\u001b[0m\u001b[1;33m(\u001b[0m\u001b[1;33m)\u001b[0m\u001b[1;33m,\u001b[0m \u001b[0my\u001b[0m\u001b[1;33m,\u001b[0m \u001b[0mop\u001b[0m\u001b[1;33m)\u001b[0m\u001b[1;33m\u001b[0m\u001b[1;33m\u001b[0m\u001b[0m\n\u001b[0m\u001b[0;32m     58\u001b[0m     \u001b[1;32mreturn\u001b[0m \u001b[0mresult\u001b[0m\u001b[1;33m.\u001b[0m\u001b[0mreshape\u001b[0m\u001b[1;33m(\u001b[0m\u001b[0mx\u001b[0m\u001b[1;33m.\u001b[0m\u001b[0mshape\u001b[0m\u001b[1;33m)\u001b[0m\u001b[1;33m\u001b[0m\u001b[1;33m\u001b[0m\u001b[0m\n\u001b[0;32m     59\u001b[0m \u001b[1;33m\u001b[0m\u001b[0m\n",
      "\u001b[1;32mpandas\\_libs\\ops.pyx\u001b[0m in \u001b[0;36mpandas._libs.ops.scalar_compare\u001b[1;34m()\u001b[0m\n",
      "\u001b[1;31mTypeError\u001b[0m: '>' not supported between instances of 'str' and 'int'"
     ]
    }
   ],
   "source": [
    "df.가격 > 100000"
   ]
  },
  {
   "cell_type": "code",
   "execution_count": 60,
   "metadata": {},
   "outputs": [
    {
     "data": {
      "text/html": [
       "<div>\n",
       "<style scoped>\n",
       "    .dataframe tbody tr th:only-of-type {\n",
       "        vertical-align: middle;\n",
       "    }\n",
       "\n",
       "    .dataframe tbody tr th {\n",
       "        vertical-align: top;\n",
       "    }\n",
       "\n",
       "    .dataframe thead th {\n",
       "        text-align: right;\n",
       "    }\n",
       "</style>\n",
       "<table border=\"1\" class=\"dataframe\">\n",
       "  <thead>\n",
       "    <tr style=\"text-align: right;\">\n",
       "      <th></th>\n",
       "      <th>시군구</th>\n",
       "      <th>단지명</th>\n",
       "      <th>면적</th>\n",
       "      <th>계약년월</th>\n",
       "      <th>계약일</th>\n",
       "      <th>가격</th>\n",
       "      <th>층</th>\n",
       "      <th>건축년도</th>\n",
       "      <th>도로명</th>\n",
       "    </tr>\n",
       "  </thead>\n",
       "  <tbody>\n",
       "    <tr>\n",
       "      <th>47359</th>\n",
       "      <td>서울특별시 강남구 삼성동</td>\n",
       "      <td>아이파크</td>\n",
       "      <td>195.388</td>\n",
       "      <td>202002</td>\n",
       "      <td>19</td>\n",
       "      <td>570000</td>\n",
       "      <td>23</td>\n",
       "      <td>2004</td>\n",
       "      <td>영동대로 640</td>\n",
       "    </tr>\n",
       "    <tr>\n",
       "      <th>51660</th>\n",
       "      <td>서울특별시 서초구 반포동</td>\n",
       "      <td>래미안퍼스티지</td>\n",
       "      <td>198.040</td>\n",
       "      <td>202002</td>\n",
       "      <td>10</td>\n",
       "      <td>470000</td>\n",
       "      <td>7</td>\n",
       "      <td>2009</td>\n",
       "      <td>반포대로 275</td>\n",
       "    </tr>\n",
       "    <tr>\n",
       "      <th>51671</th>\n",
       "      <td>서울특별시 서초구 반포동</td>\n",
       "      <td>반포자이</td>\n",
       "      <td>244.543</td>\n",
       "      <td>202002</td>\n",
       "      <td>21</td>\n",
       "      <td>410000</td>\n",
       "      <td>24</td>\n",
       "      <td>2009</td>\n",
       "      <td>신반포로 270</td>\n",
       "    </tr>\n",
       "    <tr>\n",
       "      <th>51880</th>\n",
       "      <td>서울특별시 성동구 성수동1가</td>\n",
       "      <td>갤러리아 포레</td>\n",
       "      <td>217.860</td>\n",
       "      <td>202002</td>\n",
       "      <td>12</td>\n",
       "      <td>459000</td>\n",
       "      <td>44</td>\n",
       "      <td>2011</td>\n",
       "      <td>서울숲2길 32-14</td>\n",
       "    </tr>\n",
       "  </tbody>\n",
       "</table>\n",
       "</div>"
      ],
      "text/plain": [
       "                   시군구      단지명       면적    계약년월  계약일      가격   층  건축년도  \\\n",
       "47359    서울특별시 강남구 삼성동     아이파크  195.388  202002   19  570000  23  2004   \n",
       "51660    서울특별시 서초구 반포동  래미안퍼스티지  198.040  202002   10  470000   7  2009   \n",
       "51671    서울특별시 서초구 반포동     반포자이  244.543  202002   21  410000  24  2009   \n",
       "51880  서울특별시 성동구 성수동1가  갤러리아 포레  217.860  202002   12  459000  44  2011   \n",
       "\n",
       "               도로명  \n",
       "47359     영동대로 640  \n",
       "51660     반포대로 275  \n",
       "51671     신반포로 270  \n",
       "51880  서울숲2길 32-14  "
      ]
     },
     "execution_count": 60,
     "metadata": {},
     "output_type": "execute_result"
    }
   ],
   "source": [
    "df.가격 = df.가격.str.replace(',', '').astype('int64')\n",
    "df[df.가격 > 400000]"
   ]
  },
  {
   "cell_type": "code",
   "execution_count": 61,
   "metadata": {},
   "outputs": [],
   "source": [
    "import os, re\n",
    "import pandas as pd\n",
    "df2 = pd.read_csv('survey.csv')"
   ]
  },
  {
   "cell_type": "code",
   "execution_count": 62,
   "metadata": {},
   "outputs": [
    {
     "data": {
      "text/html": [
       "<div>\n",
       "<style scoped>\n",
       "    .dataframe tbody tr th:only-of-type {\n",
       "        vertical-align: middle;\n",
       "    }\n",
       "\n",
       "    .dataframe tbody tr th {\n",
       "        vertical-align: top;\n",
       "    }\n",
       "\n",
       "    .dataframe thead th {\n",
       "        text-align: right;\n",
       "    }\n",
       "</style>\n",
       "<table border=\"1\" class=\"dataframe\">\n",
       "  <thead>\n",
       "    <tr style=\"text-align: right;\">\n",
       "      <th></th>\n",
       "      <th>sex</th>\n",
       "      <th>income</th>\n",
       "      <th>English</th>\n",
       "      <th>jobSatisfaction</th>\n",
       "      <th>stress</th>\n",
       "    </tr>\n",
       "  </thead>\n",
       "  <tbody>\n",
       "    <tr>\n",
       "      <th>0</th>\n",
       "      <td>m</td>\n",
       "      <td>3000</td>\n",
       "      <td>500</td>\n",
       "      <td>5</td>\n",
       "      <td>5</td>\n",
       "    </tr>\n",
       "    <tr>\n",
       "      <th>1</th>\n",
       "      <td>f</td>\n",
       "      <td>4000</td>\n",
       "      <td>600</td>\n",
       "      <td>4</td>\n",
       "      <td>4</td>\n",
       "    </tr>\n",
       "    <tr>\n",
       "      <th>2</th>\n",
       "      <td>f</td>\n",
       "      <td>5000</td>\n",
       "      <td>700</td>\n",
       "      <td>3</td>\n",
       "      <td>2</td>\n",
       "    </tr>\n",
       "    <tr>\n",
       "      <th>3</th>\n",
       "      <td>m</td>\n",
       "      <td>6000</td>\n",
       "      <td>800</td>\n",
       "      <td>2</td>\n",
       "      <td>2</td>\n",
       "    </tr>\n",
       "    <tr>\n",
       "      <th>4</th>\n",
       "      <td>m</td>\n",
       "      <td>4000</td>\n",
       "      <td>700</td>\n",
       "      <td>2</td>\n",
       "      <td>5</td>\n",
       "    </tr>\n",
       "  </tbody>\n",
       "</table>\n",
       "</div>"
      ],
      "text/plain": [
       "  sex  income  English  jobSatisfaction  stress\n",
       "0   m    3000      500                5       5\n",
       "1   f    4000      600                4       4\n",
       "2   f    5000      700                3       2\n",
       "3   m    6000      800                2       2\n",
       "4   m    4000      700                2       5"
      ]
     },
     "execution_count": 62,
     "metadata": {},
     "output_type": "execute_result"
    }
   ],
   "source": [
    "df2.head()"
   ]
  },
  {
   "cell_type": "code",
   "execution_count": 63,
   "metadata": {},
   "outputs": [
    {
     "data": {
      "text/plain": [
       "income             4304.217391\n",
       "English             608.695652\n",
       "jobSatisfaction       3.304348\n",
       "stress                3.347826\n",
       "dtype: float64"
      ]
     },
     "execution_count": 63,
     "metadata": {},
     "output_type": "execute_result"
    }
   ],
   "source": [
    "df2.mean()"
   ]
  },
  {
   "cell_type": "code",
   "execution_count": 64,
   "metadata": {},
   "outputs": [
    {
     "data": {
      "text/plain": [
       "4304.217391304348"
      ]
     },
     "execution_count": 64,
     "metadata": {},
     "output_type": "execute_result"
    }
   ],
   "source": [
    "df2.income.mean()"
   ]
  },
  {
   "cell_type": "code",
   "execution_count": 65,
   "metadata": {},
   "outputs": [
    {
     "data": {
      "text/plain": [
       "4999.0"
      ]
     },
     "execution_count": 65,
     "metadata": {},
     "output_type": "execute_result"
    }
   ],
   "source": [
    "df2.income.median()"
   ]
  },
  {
   "cell_type": "code",
   "execution_count": 66,
   "metadata": {},
   "outputs": [
    {
     "data": {
      "text/html": [
       "<div>\n",
       "<style scoped>\n",
       "    .dataframe tbody tr th:only-of-type {\n",
       "        vertical-align: middle;\n",
       "    }\n",
       "\n",
       "    .dataframe tbody tr th {\n",
       "        vertical-align: top;\n",
       "    }\n",
       "\n",
       "    .dataframe thead th {\n",
       "        text-align: right;\n",
       "    }\n",
       "</style>\n",
       "<table border=\"1\" class=\"dataframe\">\n",
       "  <thead>\n",
       "    <tr style=\"text-align: right;\">\n",
       "      <th></th>\n",
       "      <th>income</th>\n",
       "      <th>English</th>\n",
       "      <th>jobSatisfaction</th>\n",
       "      <th>stress</th>\n",
       "    </tr>\n",
       "  </thead>\n",
       "  <tbody>\n",
       "    <tr>\n",
       "      <th>count</th>\n",
       "      <td>23.000000</td>\n",
       "      <td>23.000000</td>\n",
       "      <td>23.000000</td>\n",
       "      <td>23.000000</td>\n",
       "    </tr>\n",
       "    <tr>\n",
       "      <th>mean</th>\n",
       "      <td>4304.217391</td>\n",
       "      <td>608.695652</td>\n",
       "      <td>3.304348</td>\n",
       "      <td>3.347826</td>\n",
       "    </tr>\n",
       "    <tr>\n",
       "      <th>std</th>\n",
       "      <td>1019.478341</td>\n",
       "      <td>99.603959</td>\n",
       "      <td>1.258960</td>\n",
       "      <td>1.433644</td>\n",
       "    </tr>\n",
       "    <tr>\n",
       "      <th>min</th>\n",
       "      <td>3000.000000</td>\n",
       "      <td>500.000000</td>\n",
       "      <td>1.000000</td>\n",
       "      <td>1.000000</td>\n",
       "    </tr>\n",
       "    <tr>\n",
       "      <th>25%</th>\n",
       "      <td>3000.000000</td>\n",
       "      <td>500.000000</td>\n",
       "      <td>2.500000</td>\n",
       "      <td>2.000000</td>\n",
       "    </tr>\n",
       "    <tr>\n",
       "      <th>50%</th>\n",
       "      <td>4999.000000</td>\n",
       "      <td>600.000000</td>\n",
       "      <td>3.000000</td>\n",
       "      <td>4.000000</td>\n",
       "    </tr>\n",
       "    <tr>\n",
       "      <th>75%</th>\n",
       "      <td>5000.000000</td>\n",
       "      <td>700.000000</td>\n",
       "      <td>4.000000</td>\n",
       "      <td>5.000000</td>\n",
       "    </tr>\n",
       "    <tr>\n",
       "      <th>max</th>\n",
       "      <td>6000.000000</td>\n",
       "      <td>800.000000</td>\n",
       "      <td>5.000000</td>\n",
       "      <td>5.000000</td>\n",
       "    </tr>\n",
       "  </tbody>\n",
       "</table>\n",
       "</div>"
      ],
      "text/plain": [
       "            income     English  jobSatisfaction     stress\n",
       "count    23.000000   23.000000        23.000000  23.000000\n",
       "mean   4304.217391  608.695652         3.304348   3.347826\n",
       "std    1019.478341   99.603959         1.258960   1.433644\n",
       "min    3000.000000  500.000000         1.000000   1.000000\n",
       "25%    3000.000000  500.000000         2.500000   2.000000\n",
       "50%    4999.000000  600.000000         3.000000   4.000000\n",
       "75%    5000.000000  700.000000         4.000000   5.000000\n",
       "max    6000.000000  800.000000         5.000000   5.000000"
      ]
     },
     "execution_count": 66,
     "metadata": {},
     "output_type": "execute_result"
    }
   ],
   "source": [
    "df2.describe()"
   ]
  },
  {
   "cell_type": "code",
   "execution_count": 67,
   "metadata": {},
   "outputs": [
    {
     "data": {
      "text/plain": [
       "count      23.000000\n",
       "mean     4304.217391\n",
       "std      1019.478341\n",
       "min      3000.000000\n",
       "25%      3000.000000\n",
       "50%      4999.000000\n",
       "75%      5000.000000\n",
       "max      6000.000000\n",
       "Name: income, dtype: float64"
      ]
     },
     "execution_count": 67,
     "metadata": {},
     "output_type": "execute_result"
    }
   ],
   "source": [
    "df2.income.describe()"
   ]
  },
  {
   "cell_type": "code",
   "execution_count": 68,
   "metadata": {},
   "outputs": [
    {
     "data": {
      "text/plain": [
       "m    14\n",
       "f     9\n",
       "Name: sex, dtype: int64"
      ]
     },
     "execution_count": 68,
     "metadata": {},
     "output_type": "execute_result"
    }
   ],
   "source": [
    "df2.sex.value_counts()"
   ]
  },
  {
   "cell_type": "code",
   "execution_count": 69,
   "metadata": {},
   "outputs": [
    {
     "data": {
      "text/html": [
       "<div>\n",
       "<style scoped>\n",
       "    .dataframe tbody tr th:only-of-type {\n",
       "        vertical-align: middle;\n",
       "    }\n",
       "\n",
       "    .dataframe tbody tr th {\n",
       "        vertical-align: top;\n",
       "    }\n",
       "\n",
       "    .dataframe thead th {\n",
       "        text-align: right;\n",
       "    }\n",
       "</style>\n",
       "<table border=\"1\" class=\"dataframe\">\n",
       "  <thead>\n",
       "    <tr style=\"text-align: right;\">\n",
       "      <th></th>\n",
       "      <th>income</th>\n",
       "      <th>English</th>\n",
       "      <th>jobSatisfaction</th>\n",
       "      <th>stress</th>\n",
       "    </tr>\n",
       "  </thead>\n",
       "  <tbody>\n",
       "    <tr>\n",
       "      <th>count</th>\n",
       "      <td>23.000000</td>\n",
       "      <td>23.000000</td>\n",
       "      <td>23.000000</td>\n",
       "      <td>23.000000</td>\n",
       "    </tr>\n",
       "    <tr>\n",
       "      <th>mean</th>\n",
       "      <td>4304.217391</td>\n",
       "      <td>608.695652</td>\n",
       "      <td>3.304348</td>\n",
       "      <td>3.347826</td>\n",
       "    </tr>\n",
       "    <tr>\n",
       "      <th>std</th>\n",
       "      <td>1019.478341</td>\n",
       "      <td>99.603959</td>\n",
       "      <td>1.258960</td>\n",
       "      <td>1.433644</td>\n",
       "    </tr>\n",
       "    <tr>\n",
       "      <th>min</th>\n",
       "      <td>3000.000000</td>\n",
       "      <td>500.000000</td>\n",
       "      <td>1.000000</td>\n",
       "      <td>1.000000</td>\n",
       "    </tr>\n",
       "    <tr>\n",
       "      <th>25%</th>\n",
       "      <td>3000.000000</td>\n",
       "      <td>500.000000</td>\n",
       "      <td>2.500000</td>\n",
       "      <td>2.000000</td>\n",
       "    </tr>\n",
       "    <tr>\n",
       "      <th>50%</th>\n",
       "      <td>4999.000000</td>\n",
       "      <td>600.000000</td>\n",
       "      <td>3.000000</td>\n",
       "      <td>4.000000</td>\n",
       "    </tr>\n",
       "    <tr>\n",
       "      <th>75%</th>\n",
       "      <td>5000.000000</td>\n",
       "      <td>700.000000</td>\n",
       "      <td>4.000000</td>\n",
       "      <td>5.000000</td>\n",
       "    </tr>\n",
       "    <tr>\n",
       "      <th>max</th>\n",
       "      <td>6000.000000</td>\n",
       "      <td>800.000000</td>\n",
       "      <td>5.000000</td>\n",
       "      <td>5.000000</td>\n",
       "    </tr>\n",
       "  </tbody>\n",
       "</table>\n",
       "</div>"
      ],
      "text/plain": [
       "            income     English  jobSatisfaction     stress\n",
       "count    23.000000   23.000000        23.000000  23.000000\n",
       "mean   4304.217391  608.695652         3.304348   3.347826\n",
       "std    1019.478341   99.603959         1.258960   1.433644\n",
       "min    3000.000000  500.000000         1.000000   1.000000\n",
       "25%    3000.000000  500.000000         2.500000   2.000000\n",
       "50%    4999.000000  600.000000         3.000000   4.000000\n",
       "75%    5000.000000  700.000000         4.000000   5.000000\n",
       "max    6000.000000  800.000000         5.000000   5.000000"
      ]
     },
     "execution_count": 69,
     "metadata": {},
     "output_type": "execute_result"
    }
   ],
   "source": [
    "df2.describe()"
   ]
  },
  {
   "cell_type": "code",
   "execution_count": 70,
   "metadata": {},
   "outputs": [
    {
     "data": {
      "text/html": [
       "<div>\n",
       "<style scoped>\n",
       "    .dataframe tbody tr th:only-of-type {\n",
       "        vertical-align: middle;\n",
       "    }\n",
       "\n",
       "    .dataframe tbody tr th {\n",
       "        vertical-align: top;\n",
       "    }\n",
       "\n",
       "    .dataframe thead th {\n",
       "        text-align: right;\n",
       "    }\n",
       "</style>\n",
       "<table border=\"1\" class=\"dataframe\">\n",
       "  <thead>\n",
       "    <tr style=\"text-align: right;\">\n",
       "      <th></th>\n",
       "      <th>income</th>\n",
       "      <th>English</th>\n",
       "      <th>jobSatisfaction</th>\n",
       "      <th>stress</th>\n",
       "    </tr>\n",
       "    <tr>\n",
       "      <th>sex</th>\n",
       "      <th></th>\n",
       "      <th></th>\n",
       "      <th></th>\n",
       "      <th></th>\n",
       "    </tr>\n",
       "  </thead>\n",
       "  <tbody>\n",
       "    <tr>\n",
       "      <th>f</th>\n",
       "      <td>4333.111111</td>\n",
       "      <td>633.333333</td>\n",
       "      <td>3.666667</td>\n",
       "      <td>3.111111</td>\n",
       "    </tr>\n",
       "    <tr>\n",
       "      <th>m</th>\n",
       "      <td>4285.642857</td>\n",
       "      <td>592.857143</td>\n",
       "      <td>3.071429</td>\n",
       "      <td>3.500000</td>\n",
       "    </tr>\n",
       "  </tbody>\n",
       "</table>\n",
       "</div>"
      ],
      "text/plain": [
       "          income     English  jobSatisfaction    stress\n",
       "sex                                                    \n",
       "f    4333.111111  633.333333         3.666667  3.111111\n",
       "m    4285.642857  592.857143         3.071429  3.500000"
      ]
     },
     "execution_count": 70,
     "metadata": {},
     "output_type": "execute_result"
    }
   ],
   "source": [
    "df2.groupby(df2.sex).mean()"
   ]
  },
  {
   "cell_type": "code",
   "execution_count": 71,
   "metadata": {},
   "outputs": [],
   "source": [
    "from scipy import stats"
   ]
  },
  {
   "cell_type": "code",
   "execution_count": 72,
   "metadata": {},
   "outputs": [],
   "source": [
    "male = df2.income[df2.sex == 'm']\n",
    "female = df2.income[df2.sex == 'f']"
   ]
  },
  {
   "cell_type": "code",
   "execution_count": 73,
   "metadata": {},
   "outputs": [
    {
     "data": {
      "text/plain": [
       "Ttest_indResult(statistic=-0.10650308143428423, pvalue=0.9161940781163369)"
      ]
     },
     "execution_count": 73,
     "metadata": {},
     "output_type": "execute_result"
    }
   ],
   "source": [
    "stats.ttest_ind(male, female)"
   ]
  },
  {
   "cell_type": "code",
   "execution_count": 74,
   "metadata": {},
   "outputs": [
    {
     "name": "stdout",
     "output_type": "stream",
     "text": [
      "Ttest_indResult(statistic=-0.10650308143428423, pvalue=0.9161940781163369)\n"
     ]
    }
   ],
   "source": [
    "ttest_result = stats.ttest_ind(male, female)\n",
    "print(ttest_result)"
   ]
  },
  {
   "cell_type": "code",
   "execution_count": 77,
   "metadata": {},
   "outputs": [
    {
     "name": "stdout",
     "output_type": "stream",
     "text": [
      "0.9161940781163369\n"
     ]
    }
   ],
   "source": [
    "print(ttest_result[1])"
   ]
  },
  {
   "cell_type": "code",
   "execution_count": 84,
   "metadata": {},
   "outputs": [
    {
     "ename": "TypeError",
     "evalue": "not enough arguments for format string",
     "output_type": "error",
     "traceback": [
      "\u001b[1;31m---------------------------------------------------------------------------\u001b[0m",
      "\u001b[1;31mTypeError\u001b[0m                                 Traceback (most recent call last)",
      "\u001b[1;32m<ipython-input-84-42cb63d4cfca>\u001b[0m in \u001b[0;36m<module>\u001b[1;34m\u001b[0m\n\u001b[0;32m      1\u001b[0m \u001b[1;32mif\u001b[0m \u001b[0mttest_result\u001b[0m\u001b[1;33m[\u001b[0m\u001b[1;36m1\u001b[0m\u001b[1;33m]\u001b[0m \u001b[1;33m>\u001b[0m \u001b[1;36m.05\u001b[0m\u001b[1;33m:\u001b[0m\u001b[1;33m\u001b[0m\u001b[1;33m\u001b[0m\u001b[0m\n\u001b[1;32m----> 2\u001b[1;33m     \u001b[0mprint\u001b[0m\u001b[1;33m(\u001b[0m\u001b[1;34m'p-value는 %f로 95% 수준에서 유의하지 않음'\u001b[0m \u001b[1;33m%\u001b[0m \u001b[0mttest_result\u001b[0m\u001b[1;33m[\u001b[0m\u001b[1;36m1\u001b[0m\u001b[1;33m]\u001b[0m\u001b[1;33m)\u001b[0m\u001b[1;33m\u001b[0m\u001b[1;33m\u001b[0m\u001b[0m\n\u001b[0m\u001b[0;32m      3\u001b[0m \u001b[1;32melse\u001b[0m\u001b[1;33m:\u001b[0m\u001b[1;33m\u001b[0m\u001b[1;33m\u001b[0m\u001b[0m\n\u001b[0;32m      4\u001b[0m     \u001b[0mprint\u001b[0m\u001b[1;33m(\u001b[0m\u001b[1;34m'p-value는 %f로 95% 수준에서 유의함'\u001b[0m \u001b[1;33m%\u001b[0m \u001b[0mttest_result\u001b[0m\u001b[1;33m[\u001b[0m\u001b[1;36m1\u001b[0m\u001b[1;33m]\u001b[0m\u001b[1;33m)\u001b[0m\u001b[1;33m\u001b[0m\u001b[1;33m\u001b[0m\u001b[0m\n",
      "\u001b[1;31mTypeError\u001b[0m: not enough arguments for format string"
     ]
    }
   ],
   "source": [
    "if ttest_result[1] > .05:\n",
    "    print('p-value는 %f로 95% 수준에서 유의하지 않음' % ttest_result[1])\n",
    "else:\n",
    "    print('p-value는 %f로 95% 수준에서 유의함' % ttest_result[1])"
   ]
  },
  {
   "cell_type": "code",
   "execution_count": 85,
   "metadata": {},
   "outputs": [
    {
     "data": {
      "text/html": [
       "<div>\n",
       "<style scoped>\n",
       "    .dataframe tbody tr th:only-of-type {\n",
       "        vertical-align: middle;\n",
       "    }\n",
       "\n",
       "    .dataframe tbody tr th {\n",
       "        vertical-align: top;\n",
       "    }\n",
       "\n",
       "    .dataframe thead th {\n",
       "        text-align: right;\n",
       "    }\n",
       "</style>\n",
       "<table border=\"1\" class=\"dataframe\">\n",
       "  <thead>\n",
       "    <tr style=\"text-align: right;\">\n",
       "      <th></th>\n",
       "      <th>면적</th>\n",
       "      <th>계약년월</th>\n",
       "      <th>계약일</th>\n",
       "      <th>가격</th>\n",
       "      <th>층</th>\n",
       "      <th>건축년도</th>\n",
       "    </tr>\n",
       "  </thead>\n",
       "  <tbody>\n",
       "    <tr>\n",
       "      <th>면적</th>\n",
       "      <td>1.000000</td>\n",
       "      <td>NaN</td>\n",
       "      <td>-0.000220</td>\n",
       "      <td>0.521555</td>\n",
       "      <td>0.145250</td>\n",
       "      <td>0.343730</td>\n",
       "    </tr>\n",
       "    <tr>\n",
       "      <th>계약년월</th>\n",
       "      <td>NaN</td>\n",
       "      <td>NaN</td>\n",
       "      <td>NaN</td>\n",
       "      <td>NaN</td>\n",
       "      <td>NaN</td>\n",
       "      <td>NaN</td>\n",
       "    </tr>\n",
       "    <tr>\n",
       "      <th>계약일</th>\n",
       "      <td>-0.000220</td>\n",
       "      <td>NaN</td>\n",
       "      <td>1.000000</td>\n",
       "      <td>0.021029</td>\n",
       "      <td>0.007842</td>\n",
       "      <td>0.008219</td>\n",
       "    </tr>\n",
       "    <tr>\n",
       "      <th>가격</th>\n",
       "      <td>0.521555</td>\n",
       "      <td>NaN</td>\n",
       "      <td>0.021029</td>\n",
       "      <td>1.000000</td>\n",
       "      <td>0.208798</td>\n",
       "      <td>0.351216</td>\n",
       "    </tr>\n",
       "    <tr>\n",
       "      <th>층</th>\n",
       "      <td>0.145250</td>\n",
       "      <td>NaN</td>\n",
       "      <td>0.007842</td>\n",
       "      <td>0.208798</td>\n",
       "      <td>1.000000</td>\n",
       "      <td>0.265976</td>\n",
       "    </tr>\n",
       "    <tr>\n",
       "      <th>건축년도</th>\n",
       "      <td>0.343730</td>\n",
       "      <td>NaN</td>\n",
       "      <td>0.008219</td>\n",
       "      <td>0.351216</td>\n",
       "      <td>0.265976</td>\n",
       "      <td>1.000000</td>\n",
       "    </tr>\n",
       "  </tbody>\n",
       "</table>\n",
       "</div>"
      ],
      "text/plain": [
       "            면적  계약년월       계약일        가격         층      건축년도\n",
       "면적    1.000000   NaN -0.000220  0.521555  0.145250  0.343730\n",
       "계약년월       NaN   NaN       NaN       NaN       NaN       NaN\n",
       "계약일  -0.000220   NaN  1.000000  0.021029  0.007842  0.008219\n",
       "가격    0.521555   NaN  0.021029  1.000000  0.208798  0.351216\n",
       "층     0.145250   NaN  0.007842  0.208798  1.000000  0.265976\n",
       "건축년도  0.343730   NaN  0.008219  0.351216  0.265976  1.000000"
      ]
     },
     "execution_count": 85,
     "metadata": {},
     "output_type": "execute_result"
    }
   ],
   "source": [
    "df.corr()\n",
    "df.corr(method = 'spearman')"
   ]
  },
  {
   "cell_type": "code",
   "execution_count": 86,
   "metadata": {},
   "outputs": [],
   "source": [
    "corr = df2.corr()"
   ]
  },
  {
   "cell_type": "code",
   "execution_count": 87,
   "metadata": {},
   "outputs": [
    {
     "data": {
      "text/html": [
       "<div>\n",
       "<style scoped>\n",
       "    .dataframe tbody tr th:only-of-type {\n",
       "        vertical-align: middle;\n",
       "    }\n",
       "\n",
       "    .dataframe tbody tr th {\n",
       "        vertical-align: top;\n",
       "    }\n",
       "\n",
       "    .dataframe thead th {\n",
       "        text-align: right;\n",
       "    }\n",
       "</style>\n",
       "<table border=\"1\" class=\"dataframe\">\n",
       "  <thead>\n",
       "    <tr style=\"text-align: right;\">\n",
       "      <th></th>\n",
       "      <th>income</th>\n",
       "      <th>English</th>\n",
       "      <th>jobSatisfaction</th>\n",
       "      <th>stress</th>\n",
       "    </tr>\n",
       "  </thead>\n",
       "  <tbody>\n",
       "    <tr>\n",
       "      <th>income</th>\n",
       "      <td>1.000000</td>\n",
       "      <td>0.599452</td>\n",
       "      <td>-0.040108</td>\n",
       "      <td>-0.137920</td>\n",
       "    </tr>\n",
       "    <tr>\n",
       "      <th>English</th>\n",
       "      <td>0.599452</td>\n",
       "      <td>1.000000</td>\n",
       "      <td>-0.312051</td>\n",
       "      <td>0.073351</td>\n",
       "    </tr>\n",
       "    <tr>\n",
       "      <th>jobSatisfaction</th>\n",
       "      <td>-0.040108</td>\n",
       "      <td>-0.312051</td>\n",
       "      <td>1.000000</td>\n",
       "      <td>0.165338</td>\n",
       "    </tr>\n",
       "    <tr>\n",
       "      <th>stress</th>\n",
       "      <td>-0.137920</td>\n",
       "      <td>0.073351</td>\n",
       "      <td>0.165338</td>\n",
       "      <td>1.000000</td>\n",
       "    </tr>\n",
       "  </tbody>\n",
       "</table>\n",
       "</div>"
      ],
      "text/plain": [
       "                   income   English  jobSatisfaction    stress\n",
       "income           1.000000  0.599452        -0.040108 -0.137920\n",
       "English          0.599452  1.000000        -0.312051  0.073351\n",
       "jobSatisfaction -0.040108 -0.312051         1.000000  0.165338\n",
       "stress          -0.137920  0.073351         0.165338  1.000000"
      ]
     },
     "execution_count": 87,
     "metadata": {},
     "output_type": "execute_result"
    }
   ],
   "source": [
    "corr"
   ]
  },
  {
   "cell_type": "code",
   "execution_count": 88,
   "metadata": {},
   "outputs": [
    {
     "data": {
      "text/html": [
       "<div>\n",
       "<style scoped>\n",
       "    .dataframe tbody tr th:only-of-type {\n",
       "        vertical-align: middle;\n",
       "    }\n",
       "\n",
       "    .dataframe tbody tr th {\n",
       "        vertical-align: top;\n",
       "    }\n",
       "\n",
       "    .dataframe thead th {\n",
       "        text-align: right;\n",
       "    }\n",
       "</style>\n",
       "<table border=\"1\" class=\"dataframe\">\n",
       "  <thead>\n",
       "    <tr style=\"text-align: right;\">\n",
       "      <th></th>\n",
       "      <th>income</th>\n",
       "      <th>English</th>\n",
       "      <th>jobSatisfaction</th>\n",
       "      <th>stress</th>\n",
       "    </tr>\n",
       "  </thead>\n",
       "  <tbody>\n",
       "    <tr>\n",
       "      <th>income</th>\n",
       "      <td>1.000000</td>\n",
       "      <td>0.543705</td>\n",
       "      <td>-0.100683</td>\n",
       "      <td>-0.170584</td>\n",
       "    </tr>\n",
       "    <tr>\n",
       "      <th>English</th>\n",
       "      <td>0.543705</td>\n",
       "      <td>1.000000</td>\n",
       "      <td>-0.309747</td>\n",
       "      <td>0.068223</td>\n",
       "    </tr>\n",
       "    <tr>\n",
       "      <th>jobSatisfaction</th>\n",
       "      <td>-0.100683</td>\n",
       "      <td>-0.309747</td>\n",
       "      <td>1.000000</td>\n",
       "      <td>0.154982</td>\n",
       "    </tr>\n",
       "    <tr>\n",
       "      <th>stress</th>\n",
       "      <td>-0.170584</td>\n",
       "      <td>0.068223</td>\n",
       "      <td>0.154982</td>\n",
       "      <td>1.000000</td>\n",
       "    </tr>\n",
       "  </tbody>\n",
       "</table>\n",
       "</div>"
      ],
      "text/plain": [
       "                   income   English  jobSatisfaction    stress\n",
       "income           1.000000  0.543705        -0.100683 -0.170584\n",
       "English          0.543705  1.000000        -0.309747  0.068223\n",
       "jobSatisfaction -0.100683 -0.309747         1.000000  0.154982\n",
       "stress          -0.170584  0.068223         0.154982  1.000000"
      ]
     },
     "execution_count": 88,
     "metadata": {},
     "output_type": "execute_result"
    }
   ],
   "source": [
    "df2.corr(method = 'spearman')"
   ]
  },
  {
   "cell_type": "code",
   "execution_count": 89,
   "metadata": {},
   "outputs": [
    {
     "data": {
      "text/plain": [
       "-0.13791959796123449"
      ]
     },
     "execution_count": 89,
     "metadata": {},
     "output_type": "execute_result"
    }
   ],
   "source": [
    "df2.income.corr(df2.stress)"
   ]
  },
  {
   "cell_type": "code",
   "execution_count": 90,
   "metadata": {},
   "outputs": [],
   "source": [
    "corr.to_csv('corr.csv')"
   ]
  },
  {
   "cell_type": "code",
   "execution_count": 91,
   "metadata": {},
   "outputs": [],
   "source": [
    "import statsmodels.formula.api as smf"
   ]
  },
  {
   "cell_type": "code",
   "execution_count": 92,
   "metadata": {},
   "outputs": [],
   "source": [
    "model = smf.ols(formula = 'jobSatisfaction~English', data = df2)"
   ]
  },
  {
   "cell_type": "code",
   "execution_count": 93,
   "metadata": {},
   "outputs": [],
   "source": [
    "result = model.fit()"
   ]
  },
  {
   "cell_type": "code",
   "execution_count": 94,
   "metadata": {},
   "outputs": [
    {
     "name": "stdout",
     "output_type": "stream",
     "text": [
      "                            OLS Regression Results                            \n",
      "==============================================================================\n",
      "Dep. Variable:        jobSatisfaction   R-squared:                       0.097\n",
      "Model:                            OLS   Adj. R-squared:                  0.054\n",
      "Method:                 Least Squares   F-statistic:                     2.266\n",
      "Date:                Mon, 27 Sep 2021   Prob (F-statistic):              0.147\n",
      "Time:                        22:54:41   Log-Likelihood:                -36.243\n",
      "No. Observations:                  23   AIC:                             76.49\n",
      "Df Residuals:                      21   BIC:                             78.76\n",
      "Df Model:                           1                                         \n",
      "Covariance Type:            nonrobust                                         \n",
      "==============================================================================\n",
      "                 coef    std err          t      P>|t|      [0.025      0.975]\n",
      "------------------------------------------------------------------------------\n",
      "Intercept      5.7052      1.615      3.532      0.002       2.346       9.065\n",
      "English       -0.0039      0.003     -1.505      0.147      -0.009       0.002\n",
      "==============================================================================\n",
      "Omnibus:                        0.120   Durbin-Watson:                   0.777\n",
      "Prob(Omnibus):                  0.942   Jarque-Bera (JB):                0.306\n",
      "Skew:                          -0.126   Prob(JB):                        0.858\n",
      "Kurtosis:                       2.495   Cond. No.                     3.90e+03\n",
      "==============================================================================\n",
      "\n",
      "Warnings:\n",
      "[1] Standard Errors assume that the covariance matrix of the errors is correctly specified.\n",
      "[2] The condition number is large, 3.9e+03. This might indicate that there are\n",
      "strong multicollinearity or other numerical problems.\n"
     ]
    }
   ],
   "source": [
    "print(result.summary())"
   ]
  },
  {
   "cell_type": "code",
   "execution_count": 96,
   "metadata": {},
   "outputs": [
    {
     "name": "stdout",
     "output_type": "stream",
     "text": [
      "                            OLS Regression Results                            \n",
      "==============================================================================\n",
      "Dep. Variable:        jobSatisfaction   R-squared:                       0.187\n",
      "Model:                            OLS   Adj. R-squared:                  0.059\n",
      "Method:                 Least Squares   F-statistic:                     1.458\n",
      "Date:                Mon, 27 Sep 2021   Prob (F-statistic):              0.258\n",
      "Time:                        23:05:54   Log-Likelihood:                -35.038\n",
      "No. Observations:                  23   AIC:                             78.08\n",
      "Df Residuals:                      19   BIC:                             82.62\n",
      "Df Model:                           3                                         \n",
      "Covariance Type:            nonrobust                                         \n",
      "==============================================================================\n",
      "                 coef    std err          t      P>|t|      [0.025      0.975]\n",
      "------------------------------------------------------------------------------\n",
      "Intercept      4.9159      1.712      2.871      0.010       1.333       8.499\n",
      "English       -0.0064      0.003     -1.931      0.069      -0.013       0.001\n",
      "stress         0.2141      0.187      1.145      0.266      -0.177       0.606\n",
      "income         0.0004      0.000      1.125      0.275      -0.000       0.001\n",
      "==============================================================================\n",
      "Omnibus:                        0.278   Durbin-Watson:                   0.989\n",
      "Prob(Omnibus):                  0.870   Jarque-Bera (JB):                0.457\n",
      "Skew:                          -0.036   Prob(JB):                        0.796\n",
      "Kurtosis:                       2.313   Cond. No.                     3.00e+04\n",
      "==============================================================================\n",
      "\n",
      "Warnings:\n",
      "[1] Standard Errors assume that the covariance matrix of the errors is correctly specified.\n",
      "[2] The condition number is large,  3e+04. This might indicate that there are\n",
      "strong multicollinearity or other numerical problems.\n"
     ]
    }
   ],
   "source": [
    "model12 = smf.ols(formula = 'jobSatisfaction~English + stress + income', data = df2)\n",
    "result = model12.fit()\n",
    "print(result.summary())"
   ]
  },
  {
   "cell_type": "code",
   "execution_count": 95,
   "metadata": {},
   "outputs": [
    {
     "ename": "NameError",
     "evalue": "name 'df3' is not defined",
     "output_type": "error",
     "traceback": [
      "\u001b[1;31m---------------------------------------------------------------------------\u001b[0m",
      "\u001b[1;31mNameError\u001b[0m                                 Traceback (most recent call last)",
      "\u001b[1;32m<ipython-input-95-3357e37d2add>\u001b[0m in \u001b[0;36m<module>\u001b[1;34m\u001b[0m\n\u001b[1;32m----> 1\u001b[1;33m \u001b[0mdf3\u001b[0m\u001b[1;33m\u001b[0m\u001b[1;33m\u001b[0m\u001b[0m\n\u001b[0m",
      "\u001b[1;31mNameError\u001b[0m: name 'df3' is not defined"
     ]
    }
   ],
   "source": [
    "df3"
   ]
  },
  {
   "cell_type": "code",
   "execution_count": 1,
   "metadata": {},
   "outputs": [],
   "source": [
    "from matplotlib import pyplot as plt\n",
    "import matplotlib.pyplot as plt"
   ]
  },
  {
   "cell_type": "code",
   "execution_count": 2,
   "metadata": {},
   "outputs": [],
   "source": [
    "x = [1, 4, 9, 16, 25, 36, 49, 64]"
   ]
  },
  {
   "cell_type": "code",
   "execution_count": 3,
   "metadata": {},
   "outputs": [
    {
     "data": {
      "text/plain": [
       "[<matplotlib.lines.Line2D at 0x8c9aaf0>]"
      ]
     },
     "execution_count": 3,
     "metadata": {},
     "output_type": "execute_result"
    },
    {
     "data": {
      "image/png": "[encoded data removed]",
      "text/plain": [
       "<Figure size 432x288 with 1 Axes>"
      ]
     },
     "metadata": {
      "needs_background": "light"
     },
     "output_type": "display_data"
    }
   ],
   "source": [
    "plt.plot(x)"
   ]
  },
  {
   "cell_type": "code",
   "execution_count": 5,
   "metadata": {},
   "outputs": [],
   "source": [
    "plt.show(x)"
   ]
  },
  {
   "cell_type": "code",
   "execution_count": 6,
   "metadata": {},
   "outputs": [
    {
     "data": {
      "image/png": "[encoded data removed]",
      "text/plain": [
       "<Figure size 432x288 with 1 Axes>"
      ]
     },
     "metadata": {
      "needs_background": "light"
     },
     "output_type": "display_data"
    }
   ],
   "source": [
    "plt.plot(x, color = 'r')\n",
    "plt.show(x)"
   ]
  },
  {
   "cell_type": "code",
   "execution_count": 10,
   "metadata": {},
   "outputs": [
    {
     "data": {
      "image/png": "[encoded data removed]",
      "text/plain": [
       "<Figure size 432x288 with 1 Axes>"
      ]
     },
     "metadata": {
      "needs_background": "light"
     },
     "output_type": "display_data"
    }
   ],
   "source": [
    "plt.plot(x, 'D')\n",
    "plt.show(x)"
   ]
  },
  {
   "cell_type": "code",
   "execution_count": 12,
   "metadata": {},
   "outputs": [
    {
     "data": {
      "text/plain": [
       "[1, 4, 9, 16, 25, 36, 49, 64]"
      ]
     },
     "execution_count": 12,
     "metadata": {},
     "output_type": "execute_result"
    }
   ],
   "source": [
    "x"
   ]
  },
  {
   "cell_type": "code",
   "execution_count": 13,
   "metadata": {},
   "outputs": [],
   "source": [
    "y = [i for i in range(1,9)]"
   ]
  },
  {
   "cell_type": "code",
   "execution_count": 14,
   "metadata": {},
   "outputs": [
    {
     "data": {
      "text/plain": [
       "[1, 2, 3, 4, 5, 6, 7, 8]"
      ]
     },
     "execution_count": 14,
     "metadata": {},
     "output_type": "execute_result"
    }
   ],
   "source": [
    "y"
   ]
  },
  {
   "cell_type": "code",
   "execution_count": 15,
   "metadata": {},
   "outputs": [
    {
     "data": {
      "image/png": "[encoded data removed]",
      "text/plain": [
       "<Figure size 432x288 with 1 Axes>"
      ]
     },
     "metadata": {
      "needs_background": "light"
     },
     "output_type": "display_data"
    }
   ],
   "source": [
    "plt.plot(x, y)\n",
    "plt.xlabel('x')\n",
    "plt.ylabel('y')\n",
    "plt.title('matplotlib sample')\n",
    "plt.show()"
   ]
  },
  {
   "cell_type": "code",
   "execution_count": 17,
   "metadata": {},
   "outputs": [],
   "source": [
    "import numpy as np"
   ]
  },
  {
   "cell_type": "code",
   "execution_count": 19,
   "metadata": {},
   "outputs": [
    {
     "data": {
      "text/plain": [
       "<function numpy.zeros>"
      ]
     },
     "execution_count": 19,
     "metadata": {},
     "output_type": "execute_result"
    }
   ],
   "source": [
    "np.zeros"
   ]
  },
  {
   "cell_type": "code",
   "execution_count": 23,
   "metadata": {},
   "outputs": [],
   "source": [
    "cf = ([[-400, -200, 300, 300, 300, 300]])"
   ]
  },
  {
   "cell_type": "code",
   "execution_count": 24,
   "metadata": {},
   "outputs": [
    {
     "name": "stderr",
     "output_type": "stream",
     "text": [
      "<ipython-input-24-80d693df6830>:1: DeprecationWarning: numpy.irr is deprecated and will be removed from NumPy 1.20. Use numpy_financial.irr instead (https://pypi.org/project/numpy-financial/).\n",
      "  np.irr(cf[0])\n"
     ]
    },
    {
     "data": {
      "text/plain": [
       "0.255135117484941"
      ]
     },
     "execution_count": 24,
     "metadata": {},
     "output_type": "execute_result"
    }
   ],
   "source": [
    "np.irr(cf[0])"
   ]
  },
  {
   "cell_type": "code",
   "execution_count": 29,
   "metadata": {},
   "outputs": [
    {
     "name": "stderr",
     "output_type": "stream",
     "text": [
      "<ipython-input-29-d63902e3a862>:1: DeprecationWarning: numpy.npv is deprecated and will be removed from NumPy 1.20. Use numpy_financial.npv instead (https://pypi.org/project/numpy-financial/).\n",
      "  np.npv(0.055, cf[0])\n"
     ]
    },
    {
     "data": {
      "text/plain": [
       "407.151693396632"
      ]
     },
     "execution_count": 29,
     "metadata": {},
     "output_type": "execute_result"
    }
   ],
   "source": [
    "np.npv(0.055, cf[0])"
   ]
  },
  {
   "cell_type": "code",
   "execution_count": 30,
   "metadata": {},
   "outputs": [],
   "source": [
    "import os, re, usecsv"
   ]
  },
  {
   "cell_type": "code",
   "execution_count": 33,
   "metadata": {},
   "outputs": [],
   "source": [
    "total = usecsv.opencsv('popSeoul.csv')"
   ]
  },
  {
   "cell_type": "code",
   "execution_count": 34,
   "metadata": {},
   "outputs": [
    {
     "name": "stdout",
     "output_type": "stream",
     "text": [
      "[['Gu', 'Korean', 'Foreigner', 'Senior'], ['Total', 9740398.0, 285529.0, 1468146.0], ['Jongrogu', 151767.0, 11093.0, 27394.0], ['Jongru', 126409.0, 10254.0, 23025.0]]\n"
     ]
    }
   ],
   "source": [
    "newPop = usecsv.switch(total)\n",
    "print(newPop[:4])"
   ]
  },
  {
   "cell_type": "code",
   "execution_count": 35,
   "metadata": {},
   "outputs": [],
   "source": [
    "i = newPop[1]"
   ]
  },
  {
   "cell_type": "code",
   "execution_count": 36,
   "metadata": {},
   "outputs": [
    {
     "data": {
      "text/plain": [
       "['Total', 9740398.0, 285529.0, 1468146.0]"
      ]
     },
     "execution_count": 36,
     "metadata": {},
     "output_type": "execute_result"
    }
   ],
   "source": [
    "i"
   ]
  },
  {
   "cell_type": "code",
   "execution_count": 37,
   "metadata": {},
   "outputs": [
    {
     "data": {
      "text/plain": [
       "2.847906233508383"
      ]
     },
     "execution_count": 37,
     "metadata": {},
     "output_type": "execute_result"
    }
   ],
   "source": [
    "i[2] / (i[1] + i[2]) * 100"
   ]
  },
  {
   "cell_type": "code",
   "execution_count": 38,
   "metadata": {},
   "outputs": [],
   "source": [
    "foregin = round(i[2] / (i[1] + i[2]) * 100, 1)"
   ]
  },
  {
   "cell_type": "code",
   "execution_count": 39,
   "metadata": {},
   "outputs": [
    {
     "data": {
      "text/plain": [
       "2.8"
      ]
     },
     "execution_count": 39,
     "metadata": {},
     "output_type": "execute_result"
    }
   ],
   "source": [
    "foregin"
   ]
  },
  {
   "cell_type": "code",
   "execution_count": 42,
   "metadata": {},
   "outputs": [
    {
     "name": "stdout",
     "output_type": "stream",
     "text": [
      "Total 2.8\n",
      "Jongrogu 6.8\n",
      "Jongru 7.5\n",
      "Yongsangu 6.6\n",
      "Seongdonggu 2.6\n",
      "Kwangjingu 4.2\n",
      "Dongdaemoongu 4.7\n",
      "Jungranggu 1.2\n",
      "Seongbukgu 2.8\n",
      "Gangbukgu 1.2\n",
      "Dobonggu 0.7\n",
      "Nowonggu 0.8\n",
      "Eunpyonggu 0.9\n",
      "Seodaemungu 4.3\n",
      "Mapogu 3.1\n",
      "Yangcheongu 0.9\n",
      "Gangseogu 1.1\n",
      "Gurogu 7.5\n",
      "Guemcheongu 7.7\n",
      "Youngdeungpogu 8.5\n",
      "Dongjakgu 3.1\n",
      "Kwanakgu 3.4\n",
      "Seoucheogu 1.0\n",
      "Gangnamgu 0.9\n",
      "Songpagu 1.0\n",
      "Gangdonggu 1.0\n"
     ]
    }
   ],
   "source": [
    "for i in newPop:\n",
    "    foregin = 0\n",
    "    try:\n",
    "        foregin = round(i[2] / (i[1] + i[2]) * 100, 1)\n",
    "        print(i[0], foregin)\n",
    "    except:\n",
    "        pass"
   ]
  },
  {
   "cell_type": "code",
   "execution_count": 43,
   "metadata": {},
   "outputs": [],
   "source": [
    "new = [['구', '한국인', '외국인', '외국인 비율(%)']]"
   ]
  },
  {
   "cell_type": "code",
   "execution_count": 44,
   "metadata": {},
   "outputs": [
    {
     "data": {
      "text/plain": [
       "['Gangdonggu', 426219.0, 4303.0, 61710.0]"
      ]
     },
     "execution_count": 44,
     "metadata": {},
     "output_type": "execute_result"
    }
   ],
   "source": [
    "i"
   ]
  },
  {
   "cell_type": "code",
   "execution_count": 47,
   "metadata": {},
   "outputs": [],
   "source": [
    "import re\n",
    "for i in newPop:\n",
    "    foreign = 0\n",
    "    try:\n",
    "        foreign = round(i[2] / (i[1] + i[2]) * 100, 1)\n",
    "        if foregin > 3:\n",
    "            print([i[0], i[1],i[2],foreign])\n",
    "    except:\n",
    "        pass"
   ]
  },
  {
   "cell_type": "code",
   "execution_count": null,
   "metadata": {},
   "outputs": [],
   "source": []
  },
  {
   "cell_type": "code",
   "execution_count": null,
   "metadata": {},
   "outputs": [],
   "source": []
  },
  {
   "cell_type": "code",
   "execution_count": null,
   "metadata": {},
   "outputs": [],
   "source": []
  },
  {
   "cell_type": "code",
   "execution_count": null,
   "metadata": {},
   "outputs": [],
   "source": []
  },
  {
   "cell_type": "code",
   "execution_count": null,
   "metadata": {},
   "outputs": [],
   "source": []
  },
  {
   "cell_type": "code",
   "execution_count": null,
   "metadata": {},
   "outputs": [],
   "source": []
  }
 ],
 "metadata": {
  "kernelspec": {
   "display_name": "Python 3",
   "language": "python",
   "name": "python3"
  },
  "language_info": {
   "codemirror_mode": {
    "name": "ipython",
    "version": 3
   },
   "file_extension": ".py",
   "mimetype": "text/x-python",
   "name": "python",
   "nbconvert_exporter": "python",
   "pygments_lexer": "ipython3",
   "version": "3.8.3"
  }
 },
 "nbformat": 4,
 "nbformat_minor": 4
}
